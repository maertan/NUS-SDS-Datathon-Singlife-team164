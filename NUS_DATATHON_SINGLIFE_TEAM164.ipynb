{
  "cells": [
    {
      "cell_type": "markdown",
      "metadata": {},
      "source": [
        "## **DO NOT CHANGE** the filepath variable\n",
        "##### Instead, create a folder named 'data' in your current working directory and \n",
        "##### have the .parquet file inside that. A relative path *must* be used when loading data into pandas"
      ]
    },
    {
      "cell_type": "code",
      "execution_count": null,
      "metadata": {},
      "outputs": [],
      "source": [
        "# Can have as many cells as you want for code\n",
        "import pandas as pd\n",
        "filepath = \"./data/catB_train.parquet\" \n",
        "# the initialised filepath MUST be a relative path to a folder named data that contains the parquet file"
      ]
    },
    {
      "cell_type": "markdown",
      "metadata": {},
      "source": [
        "### **ALL** Code for machine learning and dataset analysis should be entered below. \n",
        "##### Ensure that your code is clear and readable.\n",
        "##### Comments and Markdown notes are advised to direct attention to pieces of code you deem useful."
      ]
    },
    {
      "cell_type": "markdown",
      "metadata": {
        "id": "s1_ScbWBx_Pt"
      },
      "source": [
        "# 0 Importing required modules"
      ]
    },
    {
      "cell_type": "code",
      "execution_count": 210,
      "metadata": {
        "id": "QKR-UW96hXaG"
      },
      "outputs": [],
      "source": [
        "import pandas as pd\n",
        "import numpy as np\n",
        "import seaborn as sns\n",
        "from matplotlib import pyplot as plt\n",
        "from sklearn.preprocessing import MinMaxScaler, OrdinalEncoder\n",
        "from sklearn.model_selection import GridSearchCV, RandomizedSearchCV, train_test_split\n",
        "from sklearn.linear_model import LogisticRegression, LinearRegression\n",
        "from sklearn.metrics import confusion_matrix, accuracy_score, precision_score, recall_score, roc_auc_score, classification_report, roc_curve\n",
        "from sklearn.svm import SVC, LinearSVC\n",
        "from sklearn.ensemble import RandomForestClassifier, GradientBoostingClassifier\n",
        "from sklearn.feature_selection import chi2, SelectKBest\n",
        "from mlxtend.feature_selection import SequentialFeatureSelector\n",
        "import tensorflow as tf\n",
        "import re\n",
        "from xgboost import XGBClassifier\n",
        "from imblearn.over_sampling import SMOTE\n",
        "from statsmodels.stats.outliers_influence import variance_inflation_factor\n",
        "from scipy.stats import normaltest\n"
      ]
    },
    {
      "cell_type": "markdown",
      "metadata": {
        "id": "SoYywo-cye5q"
      },
      "source": [
        "# 1 Preparing and Processing Data"
      ]
    },
    {
      "cell_type": "markdown",
      "metadata": {
        "id": "wKzEc238HMxX"
      },
      "source": [
        "## 1.1 Reading Data"
      ]
    },
    {
      "cell_type": "code",
      "execution_count": 211,
      "metadata": {
        "id": "LpQyOMSTtpuV"
      },
      "outputs": [],
      "source": [
        "#Read dataset\n",
        "data = pd.read_parquet('catB_train.parquet')\n",
        "df = data.copy()\n",
        "\n",
        "#set random state\n",
        "RANDOM_STATE = 7"
      ]
    },
    {
      "cell_type": "markdown",
      "metadata": {
        "id": "n0SJkhEVyJia"
      },
      "source": [
        "## 1.2 Removing Certain Variables\n",
        "\n",
        "- Variables with only one value (including NAs) and all similar variables relating to those specific dropped insurance policies\n",
        "- Client number variable\n",
        "- Variables with large number of NA values (ie. 12592)\n",
        "- Variables with moderate to high multicollinearity (please refer to the appendix for the specific VIF values)"
      ]
    },
    {
      "cell_type": "code",
      "execution_count": 213,
      "metadata": {
        "colab": {
          "base_uri": "https://localhost:8080/"
        },
        "id": "-bKd_V94tN_V",
        "outputId": "95a8508a-eb54-4a9a-b3d8-8c8e9a29055c"
      },
      "outputs": [],
      "source": [
        "## Removing columns with only one value\n",
        "to_drop = df.columns[df.nunique(dropna=False) == 1]\n",
        "df = df.drop(columns=to_drop)\n",
        "#df.shape #(17992, 247)\n",
        "\n",
        "#For those variables that have been dropped earlier,\n",
        "#Find other variables relating to those specific insurance policies\n",
        "#And drop them\n",
        "to_drop_2_setup = []\n",
        "for var in to_drop:\n",
        "    if \"ape\" in var[0:3]:\n",
        "        to_drop_2_setup.append(var[4:])\n",
        "\n",
        "to_drop_2_setup.remove(\"gi\") #Manually remove\n",
        "#to_drop_2_setup\n",
        "\n",
        "to_drop_2 = []\n",
        "for var in list(df.columns):\n",
        "    for drop_var_part in to_drop_2_setup:\n",
        "        if drop_var_part in var:\n",
        "            to_drop_2.append(var)\n",
        "to_drop_2\n",
        "df = df.drop(columns = to_drop_2)\n",
        "\n",
        "#Drop client number as its not required\n",
        "df = df.drop(columns = \"clntnum\")\n",
        "\n",
        "#12592 Nones, for all the lapse variables --> Drop them all!\n",
        "cols_with_many_nones = []\n",
        "for var in list(df.columns):\n",
        "    if None in df[var].value_counts(dropna=False):\n",
        "        if df[var].value_counts(dropna=False)[None] == 12592:\n",
        "            cols_with_many_nones.append(var)\n",
        "df = df.drop(columns=cols_with_many_nones)"
      ]
    },
    {
      "cell_type": "code",
      "execution_count": 214,
      "metadata": {
        "id": "C1IvNJGGFEZY"
      },
      "outputs": [],
      "source": [
        "#Remove features displaying multicollinearity\n",
        "multicollinearity_features = [\"is_consent_to_mail\",\n",
        "                              \"is_consent_to_email\",\n",
        "                              \"is_sg_pr\",\n",
        "                              \"hh_20\",\n",
        "                              \"hh_size_est\",\n",
        "                              \"pop_20\",\n",
        "                              \"recency_hlthclaim\",\n",
        "                              \"recency_giclaim\"]\n",
        "\n",
        "df = df.drop(columns=multicollinearity_features)"
      ]
    },
    {
      "cell_type": "markdown",
      "metadata": {
        "id": "a1gR9g3syjol"
      },
      "source": [
        "## 1.3 Converting Variables to the Correct Type"
      ]
    },
    {
      "cell_type": "code",
      "execution_count": 215,
      "metadata": {
        "id": "N1eARJmlymMw"
      },
      "outputs": [
        {
          "name": "stderr",
          "output_type": "stream",
          "text": [
            "C:\\Users\\yeosh\\AppData\\Local\\Temp\\ipykernel_19212\\3108799698.py:11: FutureWarning: DataFrame.applymap has been deprecated. Use DataFrame.map instead.\n",
            "  df = df.applymap(coerce_to_numeric)\n"
          ]
        }
      ],
      "source": [
        "#Convert to datetime\n",
        "df[\"cltdob_fix\"] = pd.to_datetime(df[\"cltdob_fix\"], errors=\"coerce\")\n",
        "df[\"min_occ_date\"] = pd.to_datetime(df[\"min_occ_date\"], errors=\"coerce\")\n",
        "\n",
        "#Convert from string to numerics (int or float)\n",
        "def coerce_to_numeric(value):\n",
        "    try:\n",
        "        return pd.to_numeric(value)\n",
        "    except (ValueError, TypeError):\n",
        "        return value\n",
        "df = df.applymap(coerce_to_numeric)"
      ]
    },
    {
      "cell_type": "markdown",
      "metadata": {
        "id": "Z0BlJM-PyXih"
      },
      "source": [
        "## 1.4 Dealing with NA Values"
      ]
    },
    {
      "cell_type": "code",
      "execution_count": 216,
      "metadata": {
        "id": "rnfpi1WtDMQ5"
      },
      "outputs": [],
      "source": [
        "#Function to replace NaN values proportionally with the other values, referenced from https://stackoverflow.com/questions/51213202/replace-nan-with-existing-values-proportionately response by Maxim Dsouza\n",
        "\n",
        "def replace_with_proportion(frame, column):\n",
        "\n",
        "     isnull = frame[column].isnull()\n",
        "     sample = frame[column].dropna()\n",
        "     sample=set(sample)\n",
        "     countframe=pd.DataFrame(columns=[\"name\", \"count\", \"proportion\"])\n",
        "     for x in sample:\n",
        "          countframe.loc[-1] = [x,frame.loc[frame[column] == x].shape[0], 0 ]\n",
        "          countframe.index = countframe.index + 1\n",
        "     countframe['proportion']=countframe['count']/countframe['count'].sum()\n",
        "     to_fill=np.random.choice(countframe['name'], size=(frame[column].isnull().sum(),), p=countframe['proportion'])\n",
        "     frame.loc[isnull, column] = to_fill\n",
        "\n",
        "     return frame\n"
      ]
    },
    {
      "cell_type": "code",
      "execution_count": 217,
      "metadata": {
        "id": "-cDHXkWxZ-HN"
      },
      "outputs": [
        {
          "name": "stderr",
          "output_type": "stream",
          "text": [
            "C:\\Users\\yeosh\\AppData\\Local\\Temp\\ipykernel_19212\\3493999262.py:2: FutureWarning: A value is trying to be set on a copy of a DataFrame or Series through chained assignment using an inplace method.\n",
            "The behavior will change in pandas 3.0. This inplace method will never work because the intermediate object on which we are setting values always behaves as a copy.\n",
            "\n",
            "For example, when doing 'df[col].method(value, inplace=True)', try using 'df.method({col: value}, inplace=True)' or df[col] = df[col].method(value) instead, to perform the operation inplace on the original object.\n",
            "\n",
            "\n",
            "  df[\"f_purchase_lh\"].fillna(0, inplace=True)\n"
          ]
        }
      ],
      "source": [
        "#Target variable --> Fill with 0\n",
        "df[\"f_purchase_lh\"].fillna(0, inplace=True)"
      ]
    },
    {
      "cell_type": "markdown",
      "metadata": {
        "id": "1Me0U71JZxf0"
      },
      "source": [
        "### 1.4.1 Replace with Proportion"
      ]
    },
    {
      "cell_type": "code",
      "execution_count": 218,
      "metadata": {
        "id": "nXPWjmxvZwcG"
      },
      "outputs": [],
      "source": [
        "df = replace_with_proportion(df, 'race_desc')\n",
        "\n",
        "df = replace_with_proportion(df, 'cltsex_fix')\n",
        "\n",
        "df = replace_with_proportion(df, 'annual_income_est')"
      ]
    },
    {
      "cell_type": "markdown",
      "metadata": {
        "id": "HB3zqRM_aWlP"
      },
      "source": [
        "### 1.4.2 Handling NA in numeric binary features"
      ]
    },
    {
      "cell_type": "code",
      "execution_count": 219,
      "metadata": {
        "id": "9yaqLxG7aaB0"
      },
      "outputs": [
        {
          "name": "stderr",
          "output_type": "stream",
          "text": [
            "C:\\Users\\yeosh\\AppData\\Local\\Temp\\ipykernel_19212\\892130482.py:20: FutureWarning: A value is trying to be set on a copy of a DataFrame or Series through chained assignment using an inplace method.\n",
            "The behavior will change in pandas 3.0. This inplace method will never work because the intermediate object on which we are setting values always behaves as a copy.\n",
            "\n",
            "For example, when doing 'df[col].method(value, inplace=True)', try using 'df.method({col: value}, inplace=True)' or df[col] = df[col].method(value) instead, to perform the operation inplace on the original object.\n",
            "\n",
            "\n",
            "  df[col].fillna(0, inplace = True)\n"
          ]
        }
      ],
      "source": [
        "binary_features_0_1 = []\n",
        "binary_features_0_only = []\n",
        "binary_features_1_only = []\n",
        "\n",
        "for col in df.columns:\n",
        "    unique_values = set(df[col].dropna().unique())\n",
        "\n",
        "    if unique_values == {0, 1}:\n",
        "        binary_features_0_1.append(col)\n",
        "    elif unique_values == {0}:\n",
        "        binary_features_0_only.append(col)\n",
        "    elif unique_values == {1}:\n",
        "        binary_features_1_only.append(col)\n",
        "\n",
        "# If both 0 and 1 values already exist, replace proportionally \n",
        "for col in binary_features_0_1:\n",
        "    replace_with_proportion(df, col)\n",
        "\n",
        "# If only 1 exists, assume the NAs are 0s that were never filled in \n",
        "for col in binary_features_1_only:\n",
        "    df[col].fillna(0, inplace = True)\n",
        "\n",
        "# binary_features_0_only = [\"is_dependent_in_at_least_1_policy\"]\n",
        "# is_dependent_in_at_least_1_policy --> Cannot assume that 1014 NAs are any value\n",
        "# If filled with 0, then all values in the variable are 0.\n",
        "# Thus, can remove this variable\n",
        "df.drop(columns = [\"is_dependent_in_at_least_1_policy\"], inplace = True)"
      ]
    },
    {
      "cell_type": "markdown",
      "metadata": {
        "id": "cwsiDBNMah3G"
      },
      "source": [
        "### 1.4.3 Handling NA in other numeric features"
      ]
    },
    {
      "cell_type": "code",
      "execution_count": 220,
      "metadata": {
        "id": "CafP9Hx7akCy"
      },
      "outputs": [
        {
          "name": "stderr",
          "output_type": "stream",
          "text": [
            "C:\\Users\\yeosh\\AppData\\Local\\Temp\\ipykernel_19212\\1290512521.py:2: FutureWarning: A value is trying to be set on a copy of a DataFrame or Series through chained assignment using an inplace method.\n",
            "The behavior will change in pandas 3.0. This inplace method will never work because the intermediate object on which we are setting values always behaves as a copy.\n",
            "\n",
            "For example, when doing 'df[col].method(value, inplace=True)', try using 'df.method({col: value}, inplace=True)' or df[col] = df[col].method(value) instead, to perform the operation inplace on the original object.\n",
            "\n",
            "\n",
            "  df[\"recency_lapse\"].fillna(0, inplace = True)\n",
            "C:\\Users\\yeosh\\AppData\\Local\\Temp\\ipykernel_19212\\1290512521.py:3: FutureWarning: A value is trying to be set on a copy of a DataFrame or Series through chained assignment using an inplace method.\n",
            "The behavior will change in pandas 3.0. This inplace method will never work because the intermediate object on which we are setting values always behaves as a copy.\n",
            "\n",
            "For example, when doing 'df[col].method(value, inplace=True)', try using 'df.method({col: value}, inplace=True)' or df[col] = df[col].method(value) instead, to perform the operation inplace on the original object.\n",
            "\n",
            "\n",
            "  df[\"recency_cancel\"].fillna(0, inplace = True)\n",
            "C:\\Users\\yeosh\\AppData\\Local\\Temp\\ipykernel_19212\\1290512521.py:4: FutureWarning: A value is trying to be set on a copy of a DataFrame or Series through chained assignment using an inplace method.\n",
            "The behavior will change in pandas 3.0. This inplace method will never work because the intermediate object on which we are setting values always behaves as a copy.\n",
            "\n",
            "For example, when doing 'df[col].method(value, inplace=True)', try using 'df.method({col: value}, inplace=True)' or df[col] = df[col].method(value) instead, to perform the operation inplace on the original object.\n",
            "\n",
            "\n",
            "  df[\"tot_cancel_pols\"].fillna(0, inplace = True)\n",
            "C:\\Users\\yeosh\\AppData\\Local\\Temp\\ipykernel_19212\\1290512521.py:25: FutureWarning: A value is trying to be set on a copy of a DataFrame or Series through chained assignment using an inplace method.\n",
            "The behavior will change in pandas 3.0. This inplace method will never work because the intermediate object on which we are setting values always behaves as a copy.\n",
            "\n",
            "For example, when doing 'df[col].method(value, inplace=True)', try using 'df.method({col: value}, inplace=True)' or df[col] = df[col].method(value) instead, to perform the operation inplace on the original object.\n",
            "\n",
            "\n",
            "  df[var].fillna(0, inplace = True)\n",
            "C:\\Users\\yeosh\\AppData\\Local\\Temp\\ipykernel_19212\\1290512521.py:28: FutureWarning: A value is trying to be set on a copy of a DataFrame or Series through chained assignment using an inplace method.\n",
            "The behavior will change in pandas 3.0. This inplace method will never work because the intermediate object on which we are setting values always behaves as a copy.\n",
            "\n",
            "For example, when doing 'df[col].method(value, inplace=True)', try using 'df.method({col: value}, inplace=True)' or df[col] = df[col].method(value) instead, to perform the operation inplace on the original object.\n",
            "\n",
            "\n",
            "  df[var].fillna(9999, inplace = True)\n"
          ]
        }
      ],
      "source": [
        "#recency_lapse, recency_cancel, tot_cancel_pols --> put 0\n",
        "df[\"recency_lapse\"].fillna(0, inplace = True)\n",
        "df[\"recency_cancel\"].fillna(0, inplace = True)\n",
        "df[\"tot_cancel_pols\"].fillna(0, inplace = True)\n",
        "\n",
        "general = [\"affcon_visit_days\",\n",
        "            \"clmcon_visit_days\",\n",
        "            \"hlthclaim_amt\",\n",
        "            \"hlthclaim_cnt_success\",\n",
        "            \"hlthclaim_cnt_unsuccess\",\n",
        "            \"giclaim_amt\"\n",
        "            ]\n",
        "\n",
        "recencies = [\"n_months_since_visit_affcon\",\n",
        "             \"recency_clmcon\",\n",
        "             \"recency_clmcon_regis\",\n",
        "             \"recency_hlthclaim_success\",\n",
        "             \"recency_hlthclaim_unsuccess\",\n",
        "             \"recency_hlthclaim_839f8a\",\n",
        "             \"recency_hlthclaim_14cb37\"\n",
        "             ]\n",
        "\n",
        "# Replace with 0, indicating they were never performed\n",
        "for var in general:\n",
        "    df[var].fillna(0, inplace = True)\n",
        "\n",
        "# Replace with an arbitrarily big value, indicating it has been very long\n",
        "for var in recencies:\n",
        "    df[var].fillna(9999, inplace = True)\n",
        "\n",
        "# Preparation work before replacing remaining numeric features' NA values with either mean or median\n",
        "all_binary_features = binary_features_0_1 + binary_features_0_only + binary_features_1_only\n",
        "features_to_exclude = [\"recency_lapse\", \"recency_cancel\", \"tot_cancel_pols\"] + general + recencies\n",
        "numeric_cols = df.select_dtypes(include=[\"int64\", \"float64\"]).columns\n",
        "relevant_cols = []\n",
        "\n",
        "# If feature is normally distributed --> replace with mean \n",
        "# Else --> replace with median\n",
        "for col in numeric_cols:\n",
        "    if col not in all_binary_features and col not in features_to_exclude:\n",
        "        relevant_cols.append(col)\n",
        "        stat, p_value = normaltest(df[col])\n",
        "        if p_value > 0.05:\n",
        "            df[col] = df[col].fillna(df[col].mean())\n",
        "        else:\n",
        "            df[col] = df[col].fillna(df[col].median())"
      ]
    },
    {
      "cell_type": "markdown",
      "metadata": {
        "id": "bOTFsm6kaufx"
      },
      "source": [
        "### 1.4.4 Replace with NA"
      ]
    },
    {
      "cell_type": "code",
      "execution_count": 221,
      "metadata": {
        "id": "13_P3ivAa1G_"
      },
      "outputs": [
        {
          "name": "stderr",
          "output_type": "stream",
          "text": [
            "C:\\Users\\yeosh\\AppData\\Local\\Temp\\ipykernel_19212\\667859835.py:2: FutureWarning: A value is trying to be set on a copy of a DataFrame or Series through chained assignment using an inplace method.\n",
            "The behavior will change in pandas 3.0. This inplace method will never work because the intermediate object on which we are setting values always behaves as a copy.\n",
            "\n",
            "For example, when doing 'df[col].method(value, inplace=True)', try using 'df.method({col: value}, inplace=True)' or df[col] = df[col].method(value) instead, to perform the operation inplace on the original object.\n",
            "\n",
            "\n",
            "  df[\"ctrycode_desc\"].fillna(\"Not Applicable\", inplace = True)\n"
          ]
        }
      ],
      "source": [
        "df[\"ctrycode_desc\"].fillna(\"Not Applicable\", inplace = True)"
      ]
    },
    {
      "cell_type": "markdown",
      "metadata": {
        "id": "eMN2qpFHa88-"
      },
      "source": [
        "### 1.4.5 NA datetime values replaced with median\n",
        "\n",
        "Since the dataset is not ordered, forward or backward fill cannot be used for NA datetime values. Replaced with median values because datetime columns, unlike numerical columns, lack a natural order for calculating central tendencies such as mean or median. The use of the median datetime value was a neutral imputation strategy.\n"
      ]
    },
    {
      "cell_type": "code",
      "execution_count": 222,
      "metadata": {
        "id": "Vi-vDZt1a_73"
      },
      "outputs": [
        {
          "name": "stderr",
          "output_type": "stream",
          "text": [
            "C:\\Users\\yeosh\\AppData\\Local\\Temp\\ipykernel_19212\\287689985.py:1: FutureWarning: A value is trying to be set on a copy of a DataFrame or Series through chained assignment using an inplace method.\n",
            "The behavior will change in pandas 3.0. This inplace method will never work because the intermediate object on which we are setting values always behaves as a copy.\n",
            "\n",
            "For example, when doing 'df[col].method(value, inplace=True)', try using 'df.method({col: value}, inplace=True)' or df[col] = df[col].method(value) instead, to perform the operation inplace on the original object.\n",
            "\n",
            "\n",
            "  df[\"min_occ_date\"].fillna(df[\"min_occ_date\"].median(), inplace = True)\n",
            "C:\\Users\\yeosh\\AppData\\Local\\Temp\\ipykernel_19212\\287689985.py:3: FutureWarning: A value is trying to be set on a copy of a DataFrame or Series through chained assignment using an inplace method.\n",
            "The behavior will change in pandas 3.0. This inplace method will never work because the intermediate object on which we are setting values always behaves as a copy.\n",
            "\n",
            "For example, when doing 'df[col].method(value, inplace=True)', try using 'df.method({col: value}, inplace=True)' or df[col] = df[col].method(value) instead, to perform the operation inplace on the original object.\n",
            "\n",
            "\n",
            "  df[\"cltdob_fix\"].fillna(df[\"cltdob_fix\"].median(), inplace = True)\n"
          ]
        }
      ],
      "source": [
        "df[\"min_occ_date\"].fillna(df[\"min_occ_date\"].median(), inplace = True)\n",
        "\n",
        "df[\"cltdob_fix\"].fillna(df[\"cltdob_fix\"].median(), inplace = True)"
      ]
    },
    {
      "cell_type": "markdown",
      "metadata": {
        "id": "BtBax1hmN3t8"
      },
      "source": [
        "# 2 Exploratory Data Analysis"
      ]
    },
    {
      "cell_type": "markdown",
      "metadata": {
        "id": "PReVX7dQ8IeN"
      },
      "source": [
        "## 2.1 Functions used for producing graphs and statistical tests"
      ]
    },
    {
      "cell_type": "code",
      "execution_count": 223,
      "metadata": {
        "id": "sH4yHzbOJ8N3"
      },
      "outputs": [],
      "source": [
        "#returns a table containing mean, median, mode and range values of columns\n",
        "def calculate_statistics(column):\n",
        "    mean_value = column.mean()\n",
        "    median_value = column.median()\n",
        "    mode_value = column.mode().iloc[0] if not column.mode().empty else np.nan\n",
        "    range_value = column.max() - column.min()\n",
        "\n",
        "    return pd.Series([mean_value, median_value, mode_value, range_value],\n",
        "                     index=['Mean', 'Median', 'Mode', 'Range'])\n",
        "\n",
        "def summary_table(columns):\n",
        "    return df[columns_to_include].apply(calculate_statistics).transpose()\n",
        "\n",
        "#returns skewness values of columns\n",
        "def skewness(columns):\n",
        "    skewness_table = df[columns_to_include].skew()\n",
        "    return skewness_table.to_frame(name='Skewness')\n",
        "\n",
        "#functions for scatter plot and histogram\n",
        "def scatter_plot(x, y):\n",
        "    sns.regplot(x=x, y=y, data=df, scatter=True, color='blue', label='Data Points', scatter_kws={'s':5}, line_kws={'color': 'black', 'linestyle': '--'})\n",
        "\n",
        "    plt.xlabel(f'{x}')\n",
        "    plt.ylabel(f'{y}')\n",
        "    plt.title(f'Scatter Plot of {y} against {x}')\n",
        "\n",
        "    plt.legend()\n",
        "    plt.show()\n",
        "\n",
        "# Histogram (frequency counts for one variable)\n",
        "def histogram(x, no_of_bins):\n",
        "    sns.histplot(x=x, data=df, bins=no_of_bins, kde=True)\n",
        "    plt.xlabel('Value')\n",
        "    plt.ylabel('Frequency')\n",
        "    plt.title(f'Histogram showing {x}')\n",
        "\n",
        "    # plt.grid(True)\n",
        "    plt.show()\n",
        "\n",
        "# 2D kernel stacked density plot\n",
        "## for comparing continuous data against categorical data\n",
        "def density_plot(x, hue):\n",
        "    sns.kdeplot(data=df, x=x, hue=hue, multiple=\"fill\", ec=\"white\")\n",
        "\n",
        "#creating a scatter plot with hue\n",
        "def scatter_plot_with_hue(x, y, hue):\n",
        "    g = sns.FacetGrid(df, hue=hue)\n",
        "    g.map_dataframe(sns.scatterplot, x=x, y=y, s=15)\n",
        "    g.add_legend()\n",
        "\n",
        "#calculates correlation coeeficient between two continuous variables\n",
        "def correlate(x, y):\n",
        "    correlation = df[x].corr(df[y])\n",
        "    print(f\"Correlation between {x} and {y}:\", correlation)\n",
        "\n",
        "\n",
        "#chi square test between two categorical variables\n",
        "def chi_square_test(data, column1, column2):\n",
        "    # Create a contingency table\n",
        "    contingency_table = pd.crosstab(data[column1], data[column2])\n",
        "    print(contingency_table)\n",
        "\n",
        "    # Perform Chi-square test\n",
        "    chi2_stat, p_val, dof, expected = chi2_contingency(contingency_table)\n",
        "\n",
        "    #return chi2_stat, p_val, dof, expected\n",
        "    if (p_val < 0.05):\n",
        "        print(f'The p-value is {p_val:.20f}. At 5% level of significance, we reject the null hypothesis and conclude that there is significant association between {column1} and {column2}')\n",
        "    else:\n",
        "        print(f'The p-value is {p_val:.20f}. At 5% level of significance, we do not reject the null hypothesis and conclude that there is insignificant association between {column1} and {column2}')\n"
      ]
    },
    {
      "cell_type": "markdown",
      "metadata": {
        "id": "0Gf8dp2WyOd1"
      },
      "source": [
        "## 2.2 Univariate Analysis"
      ]
    },
    {
      "cell_type": "code",
      "execution_count": 224,
      "metadata": {
        "id": "avsFn9fPDM-8"
      },
      "outputs": [],
      "source": [
        "columns_to_include = ['n_months_last_bought_products', 'recency_lapse', 'recency_cancel', 'tot_inforce_pols', 'tot_cancel_pols', 'affcon_visit_days', 'n_months_since_visit_affcon', 'clmcon_visit_days', 'recency_clmcon', 'recency_clmcon_regis','hlthclaim_cnt_success']"
      ]
    },
    {
      "cell_type": "code",
      "execution_count": 225,
      "metadata": {
        "id": "4EnrtRF7DWNR"
      },
      "outputs": [
        {
          "data": {
            "text/html": [
              "<div>\n",
              "<style scoped>\n",
              "    .dataframe tbody tr th:only-of-type {\n",
              "        vertical-align: middle;\n",
              "    }\n",
              "\n",
              "    .dataframe tbody tr th {\n",
              "        vertical-align: top;\n",
              "    }\n",
              "\n",
              "    .dataframe thead th {\n",
              "        text-align: right;\n",
              "    }\n",
              "</style>\n",
              "<table border=\"1\" class=\"dataframe\">\n",
              "  <thead>\n",
              "    <tr style=\"text-align: right;\">\n",
              "      <th></th>\n",
              "      <th>Mean</th>\n",
              "      <th>Median</th>\n",
              "      <th>Mode</th>\n",
              "      <th>Range</th>\n",
              "    </tr>\n",
              "  </thead>\n",
              "  <tbody>\n",
              "    <tr>\n",
              "      <th>n_months_last_bought_products</th>\n",
              "      <td>52.217708</td>\n",
              "      <td>31.0</td>\n",
              "      <td>8.0</td>\n",
              "      <td>851.0</td>\n",
              "    </tr>\n",
              "    <tr>\n",
              "      <th>recency_lapse</th>\n",
              "      <td>23.108215</td>\n",
              "      <td>0.0</td>\n",
              "      <td>0.0</td>\n",
              "      <td>489.0</td>\n",
              "    </tr>\n",
              "    <tr>\n",
              "      <th>recency_cancel</th>\n",
              "      <td>1.663517</td>\n",
              "      <td>0.0</td>\n",
              "      <td>0.0</td>\n",
              "      <td>147.0</td>\n",
              "    </tr>\n",
              "    <tr>\n",
              "      <th>tot_inforce_pols</th>\n",
              "      <td>2.506558</td>\n",
              "      <td>2.0</td>\n",
              "      <td>1.0</td>\n",
              "      <td>53.0</td>\n",
              "    </tr>\n",
              "    <tr>\n",
              "      <th>tot_cancel_pols</th>\n",
              "      <td>0.042241</td>\n",
              "      <td>0.0</td>\n",
              "      <td>0.0</td>\n",
              "      <td>6.0</td>\n",
              "    </tr>\n",
              "    <tr>\n",
              "      <th>affcon_visit_days</th>\n",
              "      <td>0.122610</td>\n",
              "      <td>0.0</td>\n",
              "      <td>0.0</td>\n",
              "      <td>50.0</td>\n",
              "    </tr>\n",
              "    <tr>\n",
              "      <th>n_months_since_visit_affcon</th>\n",
              "      <td>9546.719598</td>\n",
              "      <td>9999.0</td>\n",
              "      <td>9999.0</td>\n",
              "      <td>9999.0</td>\n",
              "    </tr>\n",
              "    <tr>\n",
              "      <th>clmcon_visit_days</th>\n",
              "      <td>0.223155</td>\n",
              "      <td>0.0</td>\n",
              "      <td>0.0</td>\n",
              "      <td>56.0</td>\n",
              "    </tr>\n",
              "    <tr>\n",
              "      <th>recency_clmcon</th>\n",
              "      <td>9560.584871</td>\n",
              "      <td>9999.0</td>\n",
              "      <td>9999.0</td>\n",
              "      <td>9999.0</td>\n",
              "    </tr>\n",
              "    <tr>\n",
              "      <th>recency_clmcon_regis</th>\n",
              "      <td>9561.788184</td>\n",
              "      <td>9999.0</td>\n",
              "      <td>9999.0</td>\n",
              "      <td>9999.0</td>\n",
              "    </tr>\n",
              "    <tr>\n",
              "      <th>hlthclaim_cnt_success</th>\n",
              "      <td>0.553802</td>\n",
              "      <td>0.0</td>\n",
              "      <td>0.0</td>\n",
              "      <td>219.0</td>\n",
              "    </tr>\n",
              "  </tbody>\n",
              "</table>\n",
              "</div>"
            ],
            "text/plain": [
              "                                      Mean  Median    Mode   Range\n",
              "n_months_last_bought_products    52.217708    31.0     8.0   851.0\n",
              "recency_lapse                    23.108215     0.0     0.0   489.0\n",
              "recency_cancel                    1.663517     0.0     0.0   147.0\n",
              "tot_inforce_pols                  2.506558     2.0     1.0    53.0\n",
              "tot_cancel_pols                   0.042241     0.0     0.0     6.0\n",
              "affcon_visit_days                 0.122610     0.0     0.0    50.0\n",
              "n_months_since_visit_affcon    9546.719598  9999.0  9999.0  9999.0\n",
              "clmcon_visit_days                 0.223155     0.0     0.0    56.0\n",
              "recency_clmcon                 9560.584871  9999.0  9999.0  9999.0\n",
              "recency_clmcon_regis           9561.788184  9999.0  9999.0  9999.0\n",
              "hlthclaim_cnt_success             0.553802     0.0     0.0   219.0"
            ]
          },
          "execution_count": 225,
          "metadata": {},
          "output_type": "execute_result"
        }
      ],
      "source": [
        "summary_table(columns_to_include) #shows mean, median, mode and range of selected columns"
      ]
    },
    {
      "cell_type": "code",
      "execution_count": 226,
      "metadata": {
        "id": "eFNidicyOOBC"
      },
      "outputs": [
        {
          "data": {
            "text/html": [
              "<div>\n",
              "<style scoped>\n",
              "    .dataframe tbody tr th:only-of-type {\n",
              "        vertical-align: middle;\n",
              "    }\n",
              "\n",
              "    .dataframe tbody tr th {\n",
              "        vertical-align: top;\n",
              "    }\n",
              "\n",
              "    .dataframe thead th {\n",
              "        text-align: right;\n",
              "    }\n",
              "</style>\n",
              "<table border=\"1\" class=\"dataframe\">\n",
              "  <thead>\n",
              "    <tr style=\"text-align: right;\">\n",
              "      <th></th>\n",
              "      <th>Skewness</th>\n",
              "    </tr>\n",
              "  </thead>\n",
              "  <tbody>\n",
              "    <tr>\n",
              "      <th>n_months_last_bought_products</th>\n",
              "      <td>2.791380</td>\n",
              "    </tr>\n",
              "    <tr>\n",
              "      <th>recency_lapse</th>\n",
              "      <td>2.815280</td>\n",
              "    </tr>\n",
              "    <tr>\n",
              "      <th>recency_cancel</th>\n",
              "      <td>7.259502</td>\n",
              "    </tr>\n",
              "    <tr>\n",
              "      <th>tot_inforce_pols</th>\n",
              "      <td>3.611747</td>\n",
              "    </tr>\n",
              "    <tr>\n",
              "      <th>tot_cancel_pols</th>\n",
              "      <td>8.183179</td>\n",
              "    </tr>\n",
              "    <tr>\n",
              "      <th>affcon_visit_days</th>\n",
              "      <td>20.716133</td>\n",
              "    </tr>\n",
              "    <tr>\n",
              "      <th>n_months_since_visit_affcon</th>\n",
              "      <td>-4.376503</td>\n",
              "    </tr>\n",
              "    <tr>\n",
              "      <th>clmcon_visit_days</th>\n",
              "      <td>13.849464</td>\n",
              "    </tr>\n",
              "    <tr>\n",
              "      <th>recency_clmcon</th>\n",
              "      <td>-4.455640</td>\n",
              "    </tr>\n",
              "    <tr>\n",
              "      <th>recency_clmcon_regis</th>\n",
              "      <td>-4.455686</td>\n",
              "    </tr>\n",
              "    <tr>\n",
              "      <th>hlthclaim_cnt_success</th>\n",
              "      <td>23.429967</td>\n",
              "    </tr>\n",
              "  </tbody>\n",
              "</table>\n",
              "</div>"
            ],
            "text/plain": [
              "                                Skewness\n",
              "n_months_last_bought_products   2.791380\n",
              "recency_lapse                   2.815280\n",
              "recency_cancel                  7.259502\n",
              "tot_inforce_pols                3.611747\n",
              "tot_cancel_pols                 8.183179\n",
              "affcon_visit_days              20.716133\n",
              "n_months_since_visit_affcon    -4.376503\n",
              "clmcon_visit_days              13.849464\n",
              "recency_clmcon                 -4.455640\n",
              "recency_clmcon_regis           -4.455686\n",
              "hlthclaim_cnt_success          23.429967"
            ]
          },
          "execution_count": 226,
          "metadata": {},
          "output_type": "execute_result"
        }
      ],
      "source": [
        "skewness(columns_to_include)"
      ]
    },
    {
      "cell_type": "markdown",
      "metadata": {
        "id": "0N4McgaBDnBK"
      },
      "source": [
        "\n",
        "Skew values characterise the distribution of continuous variables, where negative values represent left-skewness, positive values represent right-skewness. Skew values close to 0 indicate symmetrical distribution, possibly normal distribution, allowing for the selection of variables for subsequent data visualisation.\n",
        "\n",
        "Below is a box plot showing the distribution of the total number of in-force policies per customer."
      ]
    },
    {
      "cell_type": "code",
      "execution_count": 227,
      "metadata": {
        "colab": {
          "base_uri": "https://localhost:8080/",
          "height": 472
        },
        "id": "8ovAVm4XJU1x",
        "outputId": "cd756cd2-04ac-434b-f9cd-c5b49e48adbe"
      },
      "outputs": [
        {
          "data": {
            "image/png": "[encoded data removed]",
            "text/plain": [
              "<Figure size 640x480 with 1 Axes>"
            ]
          },
          "metadata": {},
          "output_type": "display_data"
        }
      ],
      "source": [
        "def draw_totinforce_boxplot():\n",
        "    sns.boxplot(data=df['tot_inforce_pols'], orient=\"h\")\n",
        "    plt.xlabel('tot_inforce_pols')\n",
        "    plt.show()\n",
        "draw_totinforce_boxplot()"
      ]
    },
    {
      "cell_type": "markdown",
      "metadata": {
        "id": "afEheNUWJ8UL"
      },
      "source": [
        "**Use of Chi Square Test to determine association between categorical variables**"
      ]
    },
    {
      "cell_type": "markdown",
      "metadata": {},
      "source": [
        "From conducting Chi-squared tests, it can be seen that there is association between ‘f_purchase_lh’ and the variables ‘annual_income_est’, 'flg_has_health_claim', and 'flg_has_life_claim', as their p-values are smaller than 0.05. Thus, at 5% level of significance, we reject the null hypothesis that there is no association between the variables.\n"
      ]
    },
    {
      "cell_type": "code",
      "execution_count": null,
      "metadata": {},
      "outputs": [],
      "source": [
        "chi_square_test(df, 'f_purchase_lh', 'annual_income_est')\n",
        "chi_square_test(df, 'f_purchase_lh', 'flg_has_health_claim')\n",
        "chi_square_test(df, 'f_purchase_lh', 'flg_has_life_claim')"
      ]
    },
    {
      "cell_type": "markdown",
      "metadata": {
        "id": "Lh4xaniKyUVn"
      },
      "source": [
        "## 2.3 Multivariate Analysis"
      ]
    },
    {
      "cell_type": "markdown",
      "metadata": {
        "id": "oPRhNC9oETdw"
      },
      "source": [
        "From the density plot below, it can be seen that the fewer months since the customer last bought products, the more likely they are to purchase life or health insurance products in the next 3 months."
      ]
    },
    {
      "cell_type": "code",
      "execution_count": 228,
      "metadata": {
        "colab": {
          "base_uri": "https://localhost:8080/",
          "height": 455
        },
        "id": "-3UA6uZOJhht",
        "outputId": "2b777fd7-419d-4666-b3a0-a89ea0f23b78"
      },
      "outputs": [
        {
          "data": {
            "image/png": "[encoded data removed]",
            "text/plain": [
              "<Figure size 640x480 with 1 Axes>"
            ]
          },
          "metadata": {},
          "output_type": "display_data"
        }
      ],
      "source": [
        "density_plot(\"n_months_last_bought_products\", \"f_purchase_lh\")"
      ]
    },
    {
      "cell_type": "markdown",
      "metadata": {
        "id": "SQRAu-_JWQp9"
      },
      "source": [
        "For e22a6a, there is a high correlation between the Annual Premium Equivalent and the premium customers will pay from product inception to product maturity, as seen from the high correlation coeeficient of 0.998. In addition, as seen from the scatter plot with hue, as the Annual Premium Equivalent and premium increases, the less likely the customer is to purchase life or health insurance products within the next three months.\n",
        "\n"
      ]
    },
    {
      "cell_type": "code",
      "execution_count": 229,
      "metadata": {
        "id": "2UZ2P9J5Xz-M"
      },
      "outputs": [
        {
          "name": "stdout",
          "output_type": "stream",
          "text": [
            "Correlation between prempaid_e22a6a and ape_e22a6a: 0.9984282630336253\n"
          ]
        },
        {
          "data": {
            "image/png": "[encoded data removed]",
            "text/plain": [
              "<Figure size 406.486x300 with 1 Axes>"
            ]
          },
          "metadata": {},
          "output_type": "display_data"
        }
      ],
      "source": [
        "scatter_plot_with_hue('prempaid_e22a6a', 'ape_e22a6a','f_purchase_lh')\n",
        "correlate('prempaid_e22a6a', 'ape_e22a6a')"
      ]
    },
    {
      "cell_type": "markdown",
      "metadata": {
        "id": "T3xOSMwPXpuQ"
      },
      "source": [
        "As the number of in-force policies increases, the number of months since last buying a product decreases. In addition, as seen from the scatter plot with hue, those who are likely to purchase life or health insurance products within the next three months have a larger number of in-force policies and lower number of months since last buying a product."
      ]
    },
    {
      "cell_type": "code",
      "execution_count": 230,
      "metadata": {
        "id": "r9J6Rb33Jlnv"
      },
      "outputs": [
        {
          "data": {
            "image/png": "[encoded data removed]",
            "text/plain": [
              "<Figure size 406.486x300 with 1 Axes>"
            ]
          },
          "metadata": {},
          "output_type": "display_data"
        }
      ],
      "source": [
        "scatter_plot_with_hue('tot_inforce_pols', 'n_months_last_bought_products', 'f_purchase_lh')"
      ]
    },
    {
      "cell_type": "markdown",
      "metadata": {
        "id": "ZLVZGAyVN7Y4"
      },
      "source": [
        "# 3 Feature Engineering"
      ]
    },
    {
      "cell_type": "markdown",
      "metadata": {
        "id": "07K9rc2DZS_F"
      },
      "source": [
        "## 3.1 One Hot Encoding\n",
        "For categorical variables"
      ]
    },
    {
      "cell_type": "code",
      "execution_count": 231,
      "metadata": {
        "id": "StBMi8NfZeV3"
      },
      "outputs": [],
      "source": [
        "nominal_cols_to_encode = [\"race_desc\", \"ctrycode_desc\", \"clttype\", \"stat_flag\", \"cltsex_fix\"]\n",
        "try:\n",
        "    df = pd.get_dummies(df, columns = nominal_cols_to_encode)\n",
        "except:\n",
        "    print(\"Already done!\")\n"
      ]
    },
    {
      "cell_type": "markdown",
      "metadata": {
        "id": "3G-6Em3FZgDp"
      },
      "source": [
        "## 3.2 Ordinal Encoding\n",
        "For ordinal variables"
      ]
    },
    {
      "cell_type": "code",
      "execution_count": 232,
      "metadata": {
        "id": "PVz7TvmyZjGS"
      },
      "outputs": [],
      "source": [
        "#Make income estimate an ordinal variable\n",
        "encoder = OrdinalEncoder(categories=[['E.BELOW30K', 'D.30K-60K', 'C.60K-100K', 'B.100K-200K', 'A.ABOVE200K']])\n",
        "df[\"annual_income_est\"] = encoder.fit_transform(df[[\"annual_income_est\"]])"
      ]
    },
    {
      "cell_type": "markdown",
      "metadata": {
        "id": "m1jKs8JCZk3i"
      },
      "source": [
        "## 3.3 Datetime Encoding\n",
        "For datetime variables, encode by months: Earliest date is 0, any subsequent month adds 1 to the value"
      ]
    },
    {
      "cell_type": "code",
      "execution_count": 233,
      "metadata": {
        "id": "hflyIZUhZpqN"
      },
      "outputs": [],
      "source": [
        "earliest_dob = min(df[\"cltdob_fix\"])\n",
        "df[\"cltdob_fix\"] = (df[\"cltdob_fix\"] - earliest_dob).dt.total_seconds() / (30 * 24 * 60 * 60)\n",
        "\n",
        "earliest_occ_date = min(df[\"min_occ_date\"])\n",
        "df[\"min_occ_date\"] = (df[\"min_occ_date\"] - earliest_occ_date).dt.total_seconds() / (30 * 24 * 60 * 60)"
      ]
    },
    {
      "cell_type": "markdown",
      "metadata": {},
      "source": [
        "# 4 Modelling "
      ]
    },
    {
      "cell_type": "markdown",
      "metadata": {
        "id": "3u9bOMSpOLFr"
      },
      "source": [
        "## 4.1 Scaling\n",
        "Scale the variables to be between the values of 0 and 1"
      ]
    },
    {
      "cell_type": "code",
      "execution_count": 234,
      "metadata": {
        "id": "F3SDAFp2OMKL"
      },
      "outputs": [],
      "source": [
        "def scale(df):\n",
        "    scaler = MinMaxScaler()\n",
        "    scaled_df = scaler.fit_transform(df)\n",
        "    col_names = df.columns.tolist()\n",
        "    df = pd.DataFrame(scaled_df, columns = col_names)\n",
        "    return df\n",
        "\n",
        "df = scale(df)"
      ]
    },
    {
      "cell_type": "markdown",
      "metadata": {
        "id": "Dqeo1t-gOPWM"
      },
      "source": [
        "## 4.2 Create Training and Test Data Set\n",
        "Train/Test split of 80/20"
      ]
    },
    {
      "cell_type": "code",
      "execution_count": 235,
      "metadata": {
        "id": "ZHnaSsYuOSBu"
      },
      "outputs": [],
      "source": [
        "y_data = df[\"f_purchase_lh\"]\n",
        "X_data = df.drop([\"f_purchase_lh\"], axis = 1)"
      ]
    },
    {
      "cell_type": "code",
      "execution_count": 236,
      "metadata": {
        "id": "as7eWmsfhSLj"
      },
      "outputs": [],
      "source": [
        "# Make training and testing data\n",
        "X_train, X_test, y_train, y_test = train_test_split(X_data, y_data, test_size = 0.20, random_state = RANDOM_STATE)"
      ]
    },
    {
      "cell_type": "markdown",
      "metadata": {
        "id": "xRpXIU6dOSnj"
      },
      "source": [
        "## 4.3 Initial Model Building\n",
        "\n",
        "**Steps**\n",
        "- Run Desired Model First\n",
        "- Do feature selection + SMOTE after\n",
        "- Check if feature selection + SMOTE are helpful\n",
        "- Tune the models\n",
        "\n",
        "**Models**\n",
        "1. Logistic regression\n",
        "2. Support vector machine\n",
        "3. Random Forest\n",
        "4. xgBoost\n",
        "5. Neural Network"
      ]
    },
    {
      "cell_type": "code",
      "execution_count": 237,
      "metadata": {
        "id": "7slIPqwG-zDf"
      },
      "outputs": [],
      "source": [
        "#Function for evaluating the performance of the model\n",
        "def evaluate_model(predictions, actual = y_test):\n",
        "    print(classification_report(y_test, predictions, digits=4))\n",
        "    print(\"AUC: \" + str(round(roc_auc_score(y_test, predictions), 4)) + \"\\n\")\n",
        "    print(pd.DataFrame(confusion_matrix(y_test, predictions), columns = [\"Pred 0\", \"Pred 1\"], index = [\"True 0\", \"True 1\"]))\n"
      ]
    },
    {
      "cell_type": "markdown",
      "metadata": {
        "id": "ldoOXrTNPF5k"
      },
      "source": [
        "### 4.3.1 Logistic Regression"
      ]
    },
    {
      "cell_type": "markdown",
      "metadata": {
        "id": "NjY6XpfzZwlL"
      },
      "source": [
        "#### Model Creation"
      ]
    },
    {
      "cell_type": "code",
      "execution_count": 238,
      "metadata": {
        "id": "l4l068WDPVUQ"
      },
      "outputs": [],
      "source": [
        "logreg_model = LogisticRegression(max_iter = 1000, random_state = RANDOM_STATE)\n",
        "logreg_model.fit(X_train, y_train)\n",
        "logreg_pred = logreg_model.predict(X_test)"
      ]
    },
    {
      "cell_type": "markdown",
      "metadata": {
        "id": "nnQG9l20Zzfw"
      },
      "source": [
        "#### Evaluation Metrics"
      ]
    },
    {
      "cell_type": "code",
      "execution_count": 239,
      "metadata": {
        "colab": {
          "base_uri": "https://localhost:8080/"
        },
        "id": "ELiHmaKeZ1V3",
        "outputId": "8dea3cb2-af80-44c0-a7b0-7667cc14464e"
      },
      "outputs": [
        {
          "name": "stdout",
          "output_type": "stream",
          "text": [
            "              precision    recall  f1-score   support\n",
            "\n",
            "         0.0     0.9621    0.9994    0.9804      3455\n",
            "         1.0     0.8000    0.0556    0.1039       144\n",
            "\n",
            "    accuracy                         0.9617      3599\n",
            "   macro avg     0.8811    0.5275    0.5422      3599\n",
            "weighted avg     0.9556    0.9617    0.9453      3599\n",
            "\n",
            "AUC: 0.5275\n",
            "\n",
            "        Pred 0  Pred 1\n",
            "True 0    3453       2\n",
            "True 1     136       8\n"
          ]
        }
      ],
      "source": [
        "evaluate_model(logreg_pred)"
      ]
    },
    {
      "cell_type": "markdown",
      "metadata": {
        "id": "S9jXiTl0PV0E"
      },
      "source": [
        "### 4.3.2 Support Vector Machine"
      ]
    },
    {
      "cell_type": "markdown",
      "metadata": {
        "id": "b0zmWHKQApWl"
      },
      "source": [
        "#### Model Creation"
      ]
    },
    {
      "cell_type": "code",
      "execution_count": 240,
      "metadata": {
        "id": "Oe-evamEPXqm"
      },
      "outputs": [],
      "source": [
        "svm_model = LinearSVC(dual=False, max_iter=3000, random_state=RANDOM_STATE)\n",
        "svm_model.fit(X_train, y_train)\n",
        "svm_pred = svm_model.predict(X_test)"
      ]
    },
    {
      "cell_type": "markdown",
      "metadata": {
        "id": "daZH7JxBAuq5"
      },
      "source": [
        "#### Evaluation Metrics"
      ]
    },
    {
      "cell_type": "code",
      "execution_count": 241,
      "metadata": {
        "colab": {
          "base_uri": "https://localhost:8080/"
        },
        "id": "dHA4wp4UA0xr",
        "outputId": "deb28fd9-d431-4210-b0ac-cada3fe4d839"
      },
      "outputs": [
        {
          "name": "stdout",
          "output_type": "stream",
          "text": [
            "              precision    recall  f1-score   support\n",
            "\n",
            "         0.0     0.9600    0.9997    0.9794      3455\n",
            "         1.0     0.0000    0.0000    0.0000       144\n",
            "\n",
            "    accuracy                         0.9597      3599\n",
            "   macro avg     0.4800    0.4999    0.4897      3599\n",
            "weighted avg     0.9216    0.9597    0.9403      3599\n",
            "\n",
            "AUC: 0.4999\n",
            "\n",
            "        Pred 0  Pred 1\n",
            "True 0    3454       1\n",
            "True 1     144       0\n"
          ]
        }
      ],
      "source": [
        "evaluate_model(svm_pred)"
      ]
    },
    {
      "cell_type": "markdown",
      "metadata": {
        "id": "AKwQAfZVPYTP"
      },
      "source": [
        "### 4.3.3 Random Forest"
      ]
    },
    {
      "cell_type": "markdown",
      "metadata": {
        "id": "kzuNEiDNBFLb"
      },
      "source": [
        "#### Model Creation"
      ]
    },
    {
      "cell_type": "code",
      "execution_count": 242,
      "metadata": {
        "id": "XybhJZakPZnB"
      },
      "outputs": [],
      "source": [
        "rf_model = RandomForestClassifier(random_state=RANDOM_STATE)\n",
        "rf_model.fit(X_train, y_train)\n",
        "rf_pred = rf_model.predict(X_test)"
      ]
    },
    {
      "cell_type": "markdown",
      "metadata": {
        "id": "XwsVQ5cnBG-r"
      },
      "source": [
        "#### Evaluation Metrics"
      ]
    },
    {
      "cell_type": "code",
      "execution_count": 243,
      "metadata": {
        "colab": {
          "base_uri": "https://localhost:8080/"
        },
        "id": "O8-oi9liBI_3",
        "outputId": "4e29ee25-f803-4f57-eae0-71ba66b13f9d"
      },
      "outputs": [
        {
          "name": "stdout",
          "output_type": "stream",
          "text": [
            "              precision    recall  f1-score   support\n",
            "\n",
            "         0.0     0.9600    0.9994    0.9793      3455\n",
            "         1.0     0.0000    0.0000    0.0000       144\n",
            "\n",
            "    accuracy                         0.9594      3599\n",
            "   macro avg     0.4800    0.4997    0.4896      3599\n",
            "weighted avg     0.9216    0.9594    0.9401      3599\n",
            "\n",
            "AUC: 0.4997\n",
            "\n",
            "        Pred 0  Pred 1\n",
            "True 0    3453       2\n",
            "True 1     144       0\n"
          ]
        }
      ],
      "source": [
        "evaluate_model(rf_pred)"
      ]
    },
    {
      "cell_type": "markdown",
      "metadata": {
        "id": "x7TH1ZIqPZ9g"
      },
      "source": [
        "### 4.3.4 xgBoost"
      ]
    },
    {
      "cell_type": "markdown",
      "metadata": {},
      "source": [
        "#### Model Creation"
      ]
    },
    {
      "cell_type": "code",
      "execution_count": 244,
      "metadata": {
        "id": "M7xG2gRJPbgV"
      },
      "outputs": [],
      "source": [
        "xgboost_model = XGBClassifier(random_state = RANDOM_STATE)\n",
        "xgboost_model.fit(X_train, y_train)\n",
        "xgboost_pred = xgboost_model.predict(X_test)"
      ]
    },
    {
      "cell_type": "markdown",
      "metadata": {
        "id": "HBRRyn9J-8hu"
      },
      "source": [
        "#### Evaluation Metrics"
      ]
    },
    {
      "cell_type": "code",
      "execution_count": 245,
      "metadata": {
        "colab": {
          "base_uri": "https://localhost:8080/"
        },
        "id": "8VQFGAwH-7gO",
        "outputId": "5c88bc25-5620-456f-cf99-9ddf0c27e5c4"
      },
      "outputs": [
        {
          "name": "stdout",
          "output_type": "stream",
          "text": [
            "              precision    recall  f1-score   support\n",
            "\n",
            "         0.0     0.9649    0.9948    0.9796      3455\n",
            "         1.0     0.5135    0.1319    0.2099       144\n",
            "\n",
            "    accuracy                         0.9603      3599\n",
            "   macro avg     0.7392    0.5634    0.5948      3599\n",
            "weighted avg     0.9468    0.9603    0.9488      3599\n",
            "\n",
            "AUC: 0.5634\n",
            "\n",
            "        Pred 0  Pred 1\n",
            "True 0    3437      18\n",
            "True 1     125      19\n"
          ]
        }
      ],
      "source": [
        "evaluate_model(xgboost_pred)"
      ]
    },
    {
      "cell_type": "markdown",
      "metadata": {
        "id": "MJx4BnhLPb_k"
      },
      "source": [
        "### 4.3.5 Neural Network"
      ]
    },
    {
      "cell_type": "markdown",
      "metadata": {},
      "source": [
        "#### Model Creation"
      ]
    },
    {
      "cell_type": "code",
      "execution_count": 246,
      "metadata": {
        "id": "Jjs8Ja4QPfIW"
      },
      "outputs": [],
      "source": [
        "#Hyperparameters and settings\n",
        "learning_rate = 0.01\n",
        "loss_function = tf.keras.losses.binary_crossentropy\n",
        "optimiser_function = tf.keras.optimizers.Adam(learning_rate=learning_rate)\n",
        "\n",
        "tf.random.set_seed(RANDOM_STATE)"
      ]
    },
    {
      "cell_type": "code",
      "execution_count": 247,
      "metadata": {
        "id": "c1RMCfGF_DJY"
      },
      "outputs": [],
      "source": [
        "#Model setup\n",
        "nn_model = tf.keras.Sequential([\n",
        "    tf.keras.layers.Dense(16, activation = \"relu\"), #Hidden 1\n",
        "    tf.keras.layers.Dense(8, activation = \"relu\"), #Hidden 2\n",
        "    tf.keras.layers.Dense(1, activation = \"sigmoid\") #Output\n",
        "])"
      ]
    },
    {
      "cell_type": "code",
      "execution_count": 248,
      "metadata": {
        "id": "CNLu-UGB_EZK"
      },
      "outputs": [],
      "source": [
        "nn_model.compile(\n",
        "    loss = loss_function,\n",
        "    optimizer = optimiser_function,\n",
        "    metrics=[\n",
        "        tf.keras.metrics.F1Score(name=\"f1score\"),\n",
        "        tf.keras.metrics.BinaryAccuracy(name=\"accuracy\"),\n",
        "        tf.keras.metrics.Recall(name=\"recall\"),\n",
        "        tf.keras.metrics.Precision(name=\"precision\")\n",
        "    ]\n",
        ")"
      ]
    },
    {
      "cell_type": "code",
      "execution_count": 249,
      "metadata": {
        "colab": {
          "base_uri": "https://localhost:8080/"
        },
        "id": "RpnFF8dj_FXx",
        "outputId": "f6d6a5b2-559c-48d2-a72a-5aef2e0c35bf"
      },
      "outputs": [
        {
          "name": "stdout",
          "output_type": "stream",
          "text": [
            "Epoch 1/50\n"
          ]
        },
        {
          "name": "stdout",
          "output_type": "stream",
          "text": [
            "450/450 [==============================] - 1s 1ms/step - loss: 0.1529 - f1score: 0.0757 - accuracy: 0.9602 - recall: 0.0000e+00 - precision: 0.0000e+00\n",
            "Epoch 2/50\n",
            "450/450 [==============================] - 1s 1ms/step - loss: 0.1445 - f1score: 0.0757 - accuracy: 0.9607 - recall: 0.0000e+00 - precision: 0.0000e+00\n",
            "Epoch 3/50\n",
            "450/450 [==============================] - 1s 1ms/step - loss: 0.1401 - f1score: 0.0757 - accuracy: 0.9607 - recall: 0.0000e+00 - precision: 0.0000e+00\n",
            "Epoch 4/50\n",
            "450/450 [==============================] - 1s 1ms/step - loss: 0.1399 - f1score: 0.0757 - accuracy: 0.9607 - recall: 0.0000e+00 - precision: 0.0000e+00\n",
            "Epoch 5/50\n",
            "450/450 [==============================] - 1s 1ms/step - loss: 0.1361 - f1score: 0.0757 - accuracy: 0.9607 - recall: 0.0000e+00 - precision: 0.0000e+00\n",
            "Epoch 6/50\n",
            "450/450 [==============================] - 0s 1ms/step - loss: 0.1377 - f1score: 0.0757 - accuracy: 0.9607 - recall: 0.0000e+00 - precision: 0.0000e+00\n",
            "Epoch 7/50\n",
            "450/450 [==============================] - 1s 1ms/step - loss: 0.1359 - f1score: 0.0757 - accuracy: 0.9607 - recall: 0.0000e+00 - precision: 0.0000e+00\n",
            "Epoch 8/50\n",
            "450/450 [==============================] - 1s 1ms/step - loss: 0.1342 - f1score: 0.0757 - accuracy: 0.9605 - recall: 0.0000e+00 - precision: 0.0000e+00\n",
            "Epoch 9/50\n",
            "450/450 [==============================] - 1s 1ms/step - loss: 0.1346 - f1score: 0.0757 - accuracy: 0.9607 - recall: 0.0000e+00 - precision: 0.0000e+00\n",
            "Epoch 10/50\n",
            "450/450 [==============================] - 1s 1ms/step - loss: 0.1332 - f1score: 0.0757 - accuracy: 0.9607 - recall: 0.0000e+00 - precision: 0.0000e+00\n",
            "Epoch 11/50\n",
            "450/450 [==============================] - 1s 1ms/step - loss: 0.1340 - f1score: 0.0757 - accuracy: 0.9607 - recall: 0.0000e+00 - precision: 0.0000e+00\n",
            "Epoch 12/50\n",
            "450/450 [==============================] - 0s 1ms/step - loss: 0.1324 - f1score: 0.0757 - accuracy: 0.9607 - recall: 0.0000e+00 - precision: 0.0000e+00\n",
            "Epoch 13/50\n",
            "450/450 [==============================] - 1s 1ms/step - loss: 0.1334 - f1score: 0.0757 - accuracy: 0.9607 - recall: 0.0000e+00 - precision: 0.0000e+00\n",
            "Epoch 14/50\n",
            "450/450 [==============================] - 1s 1ms/step - loss: 0.1328 - f1score: 0.0757 - accuracy: 0.9607 - recall: 0.0000e+00 - precision: 0.0000e+00\n",
            "Epoch 15/50\n",
            "450/450 [==============================] - 1s 1ms/step - loss: 0.1319 - f1score: 0.0757 - accuracy: 0.9601 - recall: 0.0106 - precision: 0.3000\n",
            "Epoch 16/50\n",
            "450/450 [==============================] - 0s 1ms/step - loss: 0.1318 - f1score: 0.0757 - accuracy: 0.9608 - recall: 0.0212 - precision: 0.5455\n",
            "Epoch 17/50\n",
            "450/450 [==============================] - 1s 1ms/step - loss: 0.1329 - f1score: 0.0757 - accuracy: 0.9614 - recall: 0.0495 - precision: 0.6087\n",
            "Epoch 18/50\n",
            "450/450 [==============================] - 0s 1ms/step - loss: 0.1309 - f1score: 0.0757 - accuracy: 0.9609 - recall: 0.0477 - precision: 0.5294\n",
            "Epoch 19/50\n",
            "450/450 [==============================] - 0s 1ms/step - loss: 0.1304 - f1score: 0.0757 - accuracy: 0.9604 - recall: 0.0265 - precision: 0.4412\n",
            "Epoch 20/50\n",
            "450/450 [==============================] - 1s 1ms/step - loss: 0.1312 - f1score: 0.0757 - accuracy: 0.9604 - recall: 0.0265 - precision: 0.4412\n",
            "Epoch 21/50\n",
            "450/450 [==============================] - 1s 1ms/step - loss: 0.1306 - f1score: 0.0757 - accuracy: 0.9607 - recall: 0.0548 - precision: 0.5082\n",
            "Epoch 22/50\n",
            "450/450 [==============================] - 1s 1ms/step - loss: 0.1314 - f1score: 0.0757 - accuracy: 0.9599 - recall: 0.0459 - precision: 0.4127\n",
            "Epoch 23/50\n",
            "450/450 [==============================] - 1s 1ms/step - loss: 0.1296 - f1score: 0.0757 - accuracy: 0.9603 - recall: 0.0212 - precision: 0.4000\n",
            "Epoch 24/50\n",
            "450/450 [==============================] - 1s 1ms/step - loss: 0.1289 - f1score: 0.0757 - accuracy: 0.9601 - recall: 0.0565 - precision: 0.4444\n",
            "Epoch 25/50\n",
            "450/450 [==============================] - 1s 1ms/step - loss: 0.1301 - f1score: 0.0757 - accuracy: 0.9612 - recall: 0.0618 - precision: 0.5556\n",
            "Epoch 26/50\n",
            "450/450 [==============================] - 1s 1ms/step - loss: 0.1283 - f1score: 0.0757 - accuracy: 0.9603 - recall: 0.0477 - precision: 0.4500\n",
            "Epoch 27/50\n",
            "450/450 [==============================] - 0s 1ms/step - loss: 0.1286 - f1score: 0.0757 - accuracy: 0.9614 - recall: 0.0989 - precision: 0.5545\n",
            "Epoch 28/50\n",
            "450/450 [==============================] - 0s 1ms/step - loss: 0.1278 - f1score: 0.0757 - accuracy: 0.9608 - recall: 0.0724 - precision: 0.5125\n",
            "Epoch 29/50\n",
            "450/450 [==============================] - 0s 1ms/step - loss: 0.1281 - f1score: 0.0757 - accuracy: 0.9608 - recall: 0.1095 - precision: 0.5082\n",
            "Epoch 30/50\n",
            "450/450 [==============================] - 1s 1ms/step - loss: 0.1281 - f1score: 0.0757 - accuracy: 0.9610 - recall: 0.1060 - precision: 0.5172\n",
            "Epoch 31/50\n",
            "450/450 [==============================] - 0s 1ms/step - loss: 0.1283 - f1score: 0.0757 - accuracy: 0.9605 - recall: 0.0035 - precision: 0.2857 \n",
            "Epoch 32/50\n",
            "450/450 [==============================] - 0s 1ms/step - loss: 0.1282 - f1score: 0.0757 - accuracy: 0.9602 - recall: 0.0035 - precision: 0.1818\n",
            "Epoch 33/50\n",
            "450/450 [==============================] - 1s 1ms/step - loss: 0.1273 - f1score: 0.0757 - accuracy: 0.9605 - recall: 0.0389 - precision: 0.4783\n",
            "Epoch 34/50\n",
            "450/450 [==============================] - 0s 1ms/step - loss: 0.1280 - f1score: 0.0757 - accuracy: 0.9601 - recall: 0.0230 - precision: 0.3714\n",
            "Epoch 35/50\n",
            "450/450 [==============================] - 1s 1ms/step - loss: 0.1273 - f1score: 0.0757 - accuracy: 0.9603 - recall: 0.0071 - precision: 0.3077\n",
            "Epoch 36/50\n",
            "450/450 [==============================] - 1s 1ms/step - loss: 0.1260 - f1score: 0.0757 - accuracy: 0.9610 - recall: 0.0866 - precision: 0.5213\n",
            "Epoch 37/50\n",
            "450/450 [==============================] - 1s 1ms/step - loss: 0.1265 - f1score: 0.0757 - accuracy: 0.9618 - recall: 0.1131 - precision: 0.5714\n",
            "Epoch 38/50\n",
            "450/450 [==============================] - 1s 1ms/step - loss: 0.1270 - f1score: 0.0757 - accuracy: 0.9612 - recall: 0.0919 - precision: 0.5361\n",
            "Epoch 39/50\n",
            "450/450 [==============================] - 0s 1ms/step - loss: 0.1258 - f1score: 0.0757 - accuracy: 0.9616 - recall: 0.1166 - precision: 0.5593\n",
            "Epoch 40/50\n",
            "450/450 [==============================] - 0s 1ms/step - loss: 0.1272 - f1score: 0.0757 - accuracy: 0.9610 - recall: 0.1431 - precision: 0.5127\n",
            "Epoch 41/50\n",
            "450/450 [==============================] - 1s 1ms/step - loss: 0.1265 - f1score: 0.0757 - accuracy: 0.9615 - recall: 0.1078 - precision: 0.5545\n",
            "Epoch 42/50\n",
            "450/450 [==============================] - 0s 1ms/step - loss: 0.1261 - f1score: 0.0757 - accuracy: 0.9618 - recall: 0.1307 - precision: 0.5606\n",
            "Epoch 43/50\n",
            "450/450 [==============================] - 1s 1ms/step - loss: 0.1253 - f1score: 0.0757 - accuracy: 0.9621 - recall: 0.1431 - precision: 0.5745\n",
            "Epoch 44/50\n",
            "450/450 [==============================] - 0s 1ms/step - loss: 0.1267 - f1score: 0.0757 - accuracy: 0.9603 - recall: 0.0495 - precision: 0.4590\n",
            "Epoch 45/50\n",
            "450/450 [==============================] - 0s 1ms/step - loss: 0.1257 - f1score: 0.0757 - accuracy: 0.9618 - recall: 0.1396 - precision: 0.5563\n",
            "Epoch 46/50\n",
            "450/450 [==============================] - 0s 1ms/step - loss: 0.1254 - f1score: 0.0757 - accuracy: 0.9606 - recall: 0.0919 - precision: 0.4952\n",
            "Epoch 47/50\n",
            "450/450 [==============================] - 1s 1ms/step - loss: 0.1252 - f1score: 0.0757 - accuracy: 0.9622 - recall: 0.1625 - precision: 0.5679\n",
            "Epoch 48/50\n",
            "450/450 [==============================] - 1s 1ms/step - loss: 0.1255 - f1score: 0.0757 - accuracy: 0.9619 - recall: 0.1714 - precision: 0.5480\n",
            "Epoch 49/50\n",
            "450/450 [==============================] - 0s 1ms/step - loss: 0.1244 - f1score: 0.0757 - accuracy: 0.9632 - recall: 0.1537 - precision: 0.6304\n",
            "Epoch 50/50\n",
            "450/450 [==============================] - 1s 1ms/step - loss: 0.1237 - f1score: 0.0757 - accuracy: 0.9621 - recall: 0.1767 - precision: 0.5587\n",
            "113/113 [==============================] - 0s 750us/step\n"
          ]
        }
      ],
      "source": [
        "#Train model\n",
        "nn_model.fit(X_train, y_train, epochs=50)\n",
        "\n",
        "# Make predictions\n",
        "nn_pred_raw = nn_model.predict(X_test)\n",
        "nn_pred = [1 if prob > 0.5 else 0 for prob in np.ravel(nn_pred_raw)]"
      ]
    },
    {
      "cell_type": "markdown",
      "metadata": {
        "id": "wHS0BcaC_ekg"
      },
      "source": [
        "#### Evaluation Metrics"
      ]
    },
    {
      "cell_type": "code",
      "execution_count": 250,
      "metadata": {
        "colab": {
          "base_uri": "https://localhost:8080/"
        },
        "id": "DiOotiq8_gDt",
        "outputId": "8b043ac7-ad2a-4cf2-e02c-89f25f435285"
      },
      "outputs": [
        {
          "name": "stdout",
          "output_type": "stream",
          "text": [
            "              precision    recall  f1-score   support\n",
            "\n",
            "         0.0     0.9644    0.9887    0.9764      3455\n",
            "         1.0     0.3158    0.1250    0.1791       144\n",
            "\n",
            "    accuracy                         0.9542      3599\n",
            "   macro avg     0.6401    0.5569    0.5778      3599\n",
            "weighted avg     0.9385    0.9542    0.9445      3599\n",
            "\n",
            "AUC: 0.5569\n",
            "\n",
            "        Pred 0  Pred 1\n",
            "True 0    3416      39\n",
            "True 1     126      18\n"
          ]
        }
      ],
      "source": [
        "evaluate_model(nn_pred)"
      ]
    },
    {
      "cell_type": "markdown",
      "metadata": {
        "id": "TO4fgqNCPuZa"
      },
      "source": [
        "# 5 Feature Selection"
      ]
    },
    {
      "cell_type": "markdown",
      "metadata": {
        "id": "1Mg8-nisP3x6"
      },
      "source": [
        "## 5.1 Random Forest\n",
        "We use the importance values from the random forest model created earlier to do feature selection. In our case, we choose to keep the top 40 variables by importance. "
      ]
    },
    {
      "cell_type": "code",
      "execution_count": 251,
      "metadata": {
        "colab": {
          "base_uri": "https://localhost:8080/",
          "height": 430
        },
        "id": "9MsFq8_fQL6e",
        "outputId": "76dc75f4-6363-48ea-da3b-fa90800a301e"
      },
      "outputs": [
        {
          "data": {
            "image/png": "[encoded data removed]",
            "text/plain": [
              "<Figure size 640x480 with 1 Axes>"
            ]
          },
          "metadata": {},
          "output_type": "display_data"
        }
      ],
      "source": [
        "# Plot RF importance scores\n",
        "rf_importances = rf_model.feature_importances_\n",
        "sorted_idx = rf_importances.argsort()\n",
        "plt.barh(rf_model.feature_names_in_[sorted_idx], rf_importances[sorted_idx])\n",
        "plt.show()"
      ]
    },
    {
      "cell_type": "code",
      "execution_count": 252,
      "metadata": {
        "colab": {
          "base_uri": "https://localhost:8080/"
        },
        "id": "PkcvzCZfP6hS",
        "outputId": "922cf5ee-2a62-4faa-e12f-0f7dde83f977"
      },
      "outputs": [
        {
          "data": {
            "text/plain": [
              "['cltdob_fix',\n",
              " 'n_months_last_bought_products',\n",
              " 'min_occ_date',\n",
              " 'hh_size',\n",
              " 'n_months_last_bought_gi',\n",
              " 'recency_lapse',\n",
              " 'annual_income_est',\n",
              " 'tot_inforce_pols',\n",
              " 'n_months_last_bought_507c37',\n",
              " 'prempaid_507c37',\n",
              " 'ape_507c37',\n",
              " 'sumins_507c37',\n",
              " 'n_months_last_bought_e22a6a',\n",
              " 'n_months_last_bought_lh_e22a6a',\n",
              " 'f_ever_bought_gi',\n",
              " 'n_months_last_bought_grp_70e1dd',\n",
              " 'ape_e22a6a',\n",
              " 'n_months_last_bought_grp_1581d7',\n",
              " 'ape_ltc_43b9d5',\n",
              " 'n_months_last_bought_839f8a',\n",
              " 'prempaid_e22a6a',\n",
              " 'is_valid_dm',\n",
              " 'n_months_last_bought_ltc_43b9d5',\n",
              " 'giclaim_amt',\n",
              " 'ape_lh_e22a6a',\n",
              " 'prempaid_ltc',\n",
              " 'prempaid_lh_e22a6a',\n",
              " 'prempaid_ltc_43b9d5',\n",
              " 'ape_ltc',\n",
              " 'is_class_1_2',\n",
              " 'n_months_last_bought_ltc',\n",
              " 'prempaid_lh_f852af',\n",
              " 'flg_gi_claim',\n",
              " 'n_months_last_bought_lh_f852af',\n",
              " 'sumins_ltc',\n",
              " 'sumins_ltc_43b9d5',\n",
              " 'ape_839f8a',\n",
              " 'prempaid_839f8a',\n",
              " 'sumins_lh_f852af',\n",
              " 'is_consent_to_sms']"
            ]
          },
          "execution_count": 252,
          "metadata": {},
          "output_type": "execute_result"
        }
      ],
      "source": [
        "#Select top 40\n",
        "num_features = 40\n",
        "rf_selected_features = list(rf_model.feature_names_in_[sorted_idx][:-(num_features+1):-1])\n",
        "rf_selected_features"
      ]
    },
    {
      "cell_type": "markdown",
      "metadata": {
        "id": "M6qxmAUsPz8M"
      },
      "source": [
        "## 5.2 Forward Selection\n",
        "It would also be possible to do the same with forward selection, with gradient boosting (as done here), or other models such as logistic regression. However, due to computing power constraints, we decided not to. "
      ]
    },
    {
      "cell_type": "code",
      "execution_count": 253,
      "metadata": {
        "id": "Q4ybvAc3QK2N"
      },
      "outputs": [],
      "source": [
        "def forward_selection():\n",
        "    base_model = XGBClassifier(random_state = RANDOM_STATE)\n",
        "    sfs = SequentialFeatureSelector(base_model, k_features=num_features, forward=True, scoring='f1')\n",
        "    sfs.fit(X_train, y_train)\n",
        "\n",
        "    selected_features_indices = sfs.k_feature_idx_\n",
        "\n",
        "    X_train_selected = X_train[:, selected_features_indices]\n",
        "    X_test_selected = X_test[:, selected_features_indices]\n",
        "\n",
        "    final_model = base_model.fit(X_train_selected, y_train)\n",
        "    y_pred = final_model.predict(X_test_selected)\n",
        "\n",
        "    evaluate_model(y_pred)\n",
        "    \n",
        "#forward_selection()\n"
      ]
    },
    {
      "cell_type": "markdown",
      "metadata": {
        "id": "VEAkD_8GP8UZ"
      },
      "source": [
        "# 6 Refactoring Dataset\n",
        "We choose to use the feature selection from Random Forest."
      ]
    },
    {
      "cell_type": "code",
      "execution_count": 254,
      "metadata": {
        "id": "zr0eZ-zRP-g3"
      },
      "outputs": [],
      "source": [
        "X_train = X_train[rf_selected_features]\n",
        "X_test = X_test[rf_selected_features]"
      ]
    },
    {
      "cell_type": "markdown",
      "metadata": {
        "id": "nDWoEEa6QJ7x"
      },
      "source": [
        "## 6.1 Balancing the Dataset\n",
        "Using SMOTE to ensure that the dataset is balanced, with the number of observations in the positive and negative class."
      ]
    },
    {
      "cell_type": "code",
      "execution_count": 255,
      "metadata": {
        "colab": {
          "base_uri": "https://localhost:8080/"
        },
        "id": "s7xTNqLTQMzZ",
        "outputId": "600755a8-9cc5-4d1e-e45b-6ed6463997c4"
      },
      "outputs": [
        {
          "data": {
            "text/plain": [
              "f_purchase_lh\n",
              "0.0    13827\n",
              "1.0    13827\n",
              "Name: count, dtype: int64"
            ]
          },
          "execution_count": 255,
          "metadata": {},
          "output_type": "execute_result"
        }
      ],
      "source": [
        "sm = SMOTE(random_state=RANDOM_STATE, sampling_strategy= 1.0)\n",
        "X_SMOTE, y_SMOTE = sm.fit_resample(X_train, y_train)\n",
        "y_SMOTE.value_counts()"
      ]
    },
    {
      "cell_type": "markdown",
      "metadata": {
        "id": "4lBVy2CEQQiA"
      },
      "source": [
        "# 7 Final Models\n",
        "After feature selection and balancing, run the models again and tune their hyperparameters"
      ]
    },
    {
      "cell_type": "markdown",
      "metadata": {
        "id": "eVFI0RbzQY-a"
      },
      "source": [
        "## 7.1 Logistic Regression"
      ]
    },
    {
      "cell_type": "markdown",
      "metadata": {
        "id": "yS5DYlqYBTOD"
      },
      "source": [
        "### After Feature Selection"
      ]
    },
    {
      "cell_type": "code",
      "execution_count": 256,
      "metadata": {
        "id": "aoK33HNpRsqm"
      },
      "outputs": [
        {
          "name": "stdout",
          "output_type": "stream",
          "text": [
            "              precision    recall  f1-score   support\n",
            "\n",
            "         0.0     0.9602    0.9991    0.9793      3455\n",
            "         1.0     0.2500    0.0069    0.0135       144\n",
            "\n",
            "    accuracy                         0.9594      3599\n",
            "   macro avg     0.6051    0.5030    0.4964      3599\n",
            "weighted avg     0.9318    0.9594    0.9406      3599\n",
            "\n",
            "AUC: 0.503\n",
            "\n",
            "        Pred 0  Pred 1\n",
            "True 0    3452       3\n",
            "True 1     143       1\n"
          ]
        }
      ],
      "source": [
        "fs_logreg_model = LogisticRegression(max_iter=1000, random_state=RANDOM_STATE)\n",
        "fs_logreg_model.fit(X_train, y_train)\n",
        "fs_logreg_model_pred = fs_logreg_model.predict(X_test)\n",
        "evaluate_model(fs_logreg_model_pred) "
      ]
    },
    {
      "cell_type": "markdown",
      "metadata": {},
      "source": [
        "### After Smote"
      ]
    },
    {
      "cell_type": "code",
      "execution_count": 257,
      "metadata": {},
      "outputs": [
        {
          "name": "stdout",
          "output_type": "stream",
          "text": [
            "              precision    recall  f1-score   support\n",
            "\n",
            "         0.0     0.9808    0.7233    0.8326      3455\n",
            "         1.0     0.0904    0.6597    0.1590       144\n",
            "\n",
            "    accuracy                         0.7208      3599\n",
            "   macro avg     0.5356    0.6915    0.4958      3599\n",
            "weighted avg     0.9451    0.7208    0.8056      3599\n",
            "\n",
            "AUC: 0.6915\n",
            "\n",
            "        Pred 0  Pred 1\n",
            "True 0    2499     956\n",
            "True 1      49      95\n"
          ]
        }
      ],
      "source": [
        "smote_logreg_model = LogisticRegression(max_iter=1000, random_state=RANDOM_STATE)\n",
        "smote_logreg_model.fit(X_SMOTE, y_SMOTE)\n",
        "smote_logreg_model_pred = smote_logreg_model.predict(X_test)\n",
        "evaluate_model(smote_logreg_model_pred) "
      ]
    },
    {
      "cell_type": "markdown",
      "metadata": {
        "id": "VYNkzXs8Bf3e"
      },
      "source": [
        "### After Tuning"
      ]
    },
    {
      "cell_type": "code",
      "execution_count": 258,
      "metadata": {
        "id": "fTJ12A9cWT0Y"
      },
      "outputs": [
        {
          "name": "stdout",
          "output_type": "stream",
          "text": [
            "{'C': 10, 'penalty': 'l2', 'solver': 'newton-cg'}\n",
            "              precision    recall  f1-score   support\n",
            "\n",
            "         0.0     0.9807    0.7213    0.8312      3455\n",
            "         1.0     0.0898    0.6597    0.1581       144\n",
            "\n",
            "    accuracy                         0.7188      3599\n",
            "   macro avg     0.5353    0.6905    0.4946      3599\n",
            "weighted avg     0.9451    0.7188    0.8043      3599\n",
            "\n",
            "AUC: 0.6905\n",
            "\n",
            "        Pred 0  Pred 1\n",
            "True 0    2492     963\n",
            "True 1      49      95\n"
          ]
        }
      ],
      "source": [
        "# Defining the hyperparameter grid for logistic regression\n",
        "param_grid = {\n",
        "    'C': [0.001, 0.01, 0.1, 1, 10, 100],\n",
        "    'penalty': ['l2'],\n",
        "    'solver' : ['newton-cg', 'lbfgs']\n",
        "}\n",
        "\n",
        "# Initialising the  logistic regression model\n",
        "logreg_model = LogisticRegression(max_iter=1000, random_state=RANDOM_STATE)\n",
        "\n",
        "# Grid Search\n",
        "grid_search = GridSearchCV(estimator=logreg_model, param_grid=param_grid, cv=5, scoring='accuracy')\n",
        "grid_search.fit(X_SMOTE, y_SMOTE)\n",
        "\n",
        "# Obtaining the best parameters and best estimater\n",
        "logreg_best_params = grid_search.best_params_\n",
        "print(logreg_best_params)\n",
        "logreg_best_estimator = grid_search.best_estimator_\n",
        "\n",
        "# Making predictions on the test set using the logistic regression model that has been tuned via grid search\n",
        "tuned_logreg_pred = logreg_best_estimator.predict(X_test)\n",
        "\n",
        "# Evaluating the model\n",
        "evaluate_model(tuned_logreg_pred)\n"
      ]
    },
    {
      "cell_type": "markdown",
      "metadata": {
        "id": "IfDvZNfqQbhV"
      },
      "source": [
        "## 7.2 Support Vector Machine"
      ]
    },
    {
      "cell_type": "markdown",
      "metadata": {},
      "source": [
        "### After Feature Selection"
      ]
    },
    {
      "cell_type": "code",
      "execution_count": 259,
      "metadata": {
        "id": "PMcAOrOUQeIO"
      },
      "outputs": [
        {
          "name": "stdout",
          "output_type": "stream",
          "text": [
            "              precision    recall  f1-score   support\n",
            "\n",
            "         0.0     0.9600    1.0000    0.9796      3455\n",
            "         1.0     0.0000    0.0000    0.0000       144\n",
            "\n",
            "    accuracy                         0.9600      3599\n",
            "   macro avg     0.4800    0.5000    0.4898      3599\n",
            "weighted avg     0.9216    0.9600    0.9404      3599\n",
            "\n",
            "AUC: 0.5\n",
            "\n",
            "        Pred 0  Pred 1\n",
            "True 0    3455       0\n",
            "True 1     144       0\n"
          ]
        },
        {
          "name": "stderr",
          "output_type": "stream",
          "text": [
            "c:\\Users\\yeosh\\AppData\\Local\\Programs\\Python\\Python311\\Lib\\site-packages\\sklearn\\metrics\\_classification.py:1497: UndefinedMetricWarning: Precision is ill-defined and being set to 0.0 in labels with no predicted samples. Use `zero_division` parameter to control this behavior.\n",
            "  _warn_prf(average, modifier, f\"{metric.capitalize()} is\", len(result))\n",
            "c:\\Users\\yeosh\\AppData\\Local\\Programs\\Python\\Python311\\Lib\\site-packages\\sklearn\\metrics\\_classification.py:1497: UndefinedMetricWarning: Precision is ill-defined and being set to 0.0 in labels with no predicted samples. Use `zero_division` parameter to control this behavior.\n",
            "  _warn_prf(average, modifier, f\"{metric.capitalize()} is\", len(result))\n",
            "c:\\Users\\yeosh\\AppData\\Local\\Programs\\Python\\Python311\\Lib\\site-packages\\sklearn\\metrics\\_classification.py:1497: UndefinedMetricWarning: Precision is ill-defined and being set to 0.0 in labels with no predicted samples. Use `zero_division` parameter to control this behavior.\n",
            "  _warn_prf(average, modifier, f\"{metric.capitalize()} is\", len(result))\n"
          ]
        }
      ],
      "source": [
        "fs_svm_model = LinearSVC(dual=False, max_iter=3000, random_state=RANDOM_STATE)\n",
        "fs_svm_model.fit(X_train, y_train)\n",
        "fs_svm_pred = fs_svm_model.predict(X_test)\n",
        "evaluate_model(fs_svm_pred)"
      ]
    },
    {
      "cell_type": "markdown",
      "metadata": {},
      "source": [
        "### After SMOTE"
      ]
    },
    {
      "cell_type": "code",
      "execution_count": 260,
      "metadata": {
        "id": "HcFisA1nM0DP"
      },
      "outputs": [
        {
          "name": "stdout",
          "output_type": "stream",
          "text": [
            "              precision    recall  f1-score   support\n",
            "\n",
            "         0.0     0.9818    0.7187    0.8299      3455\n",
            "         1.0     0.0916    0.6806    0.1614       144\n",
            "\n",
            "    accuracy                         0.7171      3599\n",
            "   macro avg     0.5367    0.6996    0.4957      3599\n",
            "weighted avg     0.9462    0.7171    0.8031      3599\n",
            "\n",
            "AUC: 0.6996\n",
            "\n",
            "        Pred 0  Pred 1\n",
            "True 0    2483     972\n",
            "True 1      46      98\n"
          ]
        }
      ],
      "source": [
        "smote_svm_model = LinearSVC(dual=False, max_iter=3000, random_state=RANDOM_STATE)\n",
        "smote_svm_model.fit(X_SMOTE, y_SMOTE)\n",
        "smote_svm_pred = smote_svm_model.predict(X_test)\n",
        "evaluate_model(smote_svm_pred)"
      ]
    },
    {
      "cell_type": "markdown",
      "metadata": {},
      "source": [
        "### After Tuning"
      ]
    },
    {
      "cell_type": "code",
      "execution_count": 261,
      "metadata": {
        "id": "wX1dhVEyM3Fv"
      },
      "outputs": [
        {
          "name": "stderr",
          "output_type": "stream",
          "text": [
            "c:\\Users\\yeosh\\AppData\\Local\\Programs\\Python\\Python311\\Lib\\site-packages\\sklearn\\svm\\_base.py:1237: ConvergenceWarning: Liblinear failed to converge, increase the number of iterations.\n",
            "  warnings.warn(\n",
            "c:\\Users\\yeosh\\AppData\\Local\\Programs\\Python\\Python311\\Lib\\site-packages\\sklearn\\svm\\_base.py:1237: ConvergenceWarning: Liblinear failed to converge, increase the number of iterations.\n",
            "  warnings.warn(\n",
            "c:\\Users\\yeosh\\AppData\\Local\\Programs\\Python\\Python311\\Lib\\site-packages\\sklearn\\svm\\_base.py:1237: ConvergenceWarning: Liblinear failed to converge, increase the number of iterations.\n",
            "  warnings.warn(\n",
            "c:\\Users\\yeosh\\AppData\\Local\\Programs\\Python\\Python311\\Lib\\site-packages\\sklearn\\svm\\_base.py:1237: ConvergenceWarning: Liblinear failed to converge, increase the number of iterations.\n",
            "  warnings.warn(\n",
            "c:\\Users\\yeosh\\AppData\\Local\\Programs\\Python\\Python311\\Lib\\site-packages\\sklearn\\svm\\_base.py:1237: ConvergenceWarning: Liblinear failed to converge, increase the number of iterations.\n",
            "  warnings.warn(\n",
            "c:\\Users\\yeosh\\AppData\\Local\\Programs\\Python\\Python311\\Lib\\site-packages\\sklearn\\svm\\_base.py:1237: ConvergenceWarning: Liblinear failed to converge, increase the number of iterations.\n",
            "  warnings.warn(\n",
            "c:\\Users\\yeosh\\AppData\\Local\\Programs\\Python\\Python311\\Lib\\site-packages\\sklearn\\svm\\_base.py:1237: ConvergenceWarning: Liblinear failed to converge, increase the number of iterations.\n",
            "  warnings.warn(\n",
            "c:\\Users\\yeosh\\AppData\\Local\\Programs\\Python\\Python311\\Lib\\site-packages\\sklearn\\svm\\_base.py:1237: ConvergenceWarning: Liblinear failed to converge, increase the number of iterations.\n",
            "  warnings.warn(\n",
            "c:\\Users\\yeosh\\AppData\\Local\\Programs\\Python\\Python311\\Lib\\site-packages\\sklearn\\svm\\_base.py:1237: ConvergenceWarning: Liblinear failed to converge, increase the number of iterations.\n",
            "  warnings.warn(\n"
          ]
        },
        {
          "name": "stdout",
          "output_type": "stream",
          "text": [
            "{'C': 0.1, 'loss': 'squared_hinge', 'penalty': 'l2'}\n"
          ]
        },
        {
          "name": "stderr",
          "output_type": "stream",
          "text": [
            "c:\\Users\\yeosh\\AppData\\Local\\Programs\\Python\\Python311\\Lib\\site-packages\\sklearn\\model_selection\\_validation.py:542: FitFailedWarning: \n",
            "50 fits failed out of a total of 100.\n",
            "The score on these train-test partitions for these parameters will be set to nan.\n",
            "If these failures are not expected, you can try to debug them by setting error_score='raise'.\n",
            "\n",
            "Below are more details about the failures:\n",
            "--------------------------------------------------------------------------------\n",
            "25 fits failed with the following error:\n",
            "Traceback (most recent call last):\n",
            "  File \"c:\\Users\\yeosh\\AppData\\Local\\Programs\\Python\\Python311\\Lib\\site-packages\\sklearn\\model_selection\\_validation.py\", line 890, in _fit_and_score\n",
            "    estimator.fit(X_train, y_train, **fit_params)\n",
            "  File \"c:\\Users\\yeosh\\AppData\\Local\\Programs\\Python\\Python311\\Lib\\site-packages\\sklearn\\base.py\", line 1351, in wrapper\n",
            "    return fit_method(estimator, *args, **kwargs)\n",
            "           ^^^^^^^^^^^^^^^^^^^^^^^^^^^^^^^^^^^^^^\n",
            "  File \"c:\\Users\\yeosh\\AppData\\Local\\Programs\\Python\\Python311\\Lib\\site-packages\\sklearn\\svm\\_classes.py\", line 325, in fit\n",
            "    self.coef_, self.intercept_, n_iter_ = _fit_liblinear(\n",
            "                                           ^^^^^^^^^^^^^^^\n",
            "  File \"c:\\Users\\yeosh\\AppData\\Local\\Programs\\Python\\Python311\\Lib\\site-packages\\sklearn\\svm\\_base.py\", line 1216, in _fit_liblinear\n",
            "    solver_type = _get_liblinear_solver_type(multi_class, penalty, loss, dual)\n",
            "                  ^^^^^^^^^^^^^^^^^^^^^^^^^^^^^^^^^^^^^^^^^^^^^^^^^^^^^^^^^^^^\n",
            "  File \"c:\\Users\\yeosh\\AppData\\Local\\Programs\\Python\\Python311\\Lib\\site-packages\\sklearn\\svm\\_base.py\", line 1047, in _get_liblinear_solver_type\n",
            "    raise ValueError(\n",
            "ValueError: Unsupported set of arguments: The combination of penalty='l1' and loss='hinge' is not supported, Parameters: penalty='l1', loss='hinge', dual=False\n",
            "\n",
            "--------------------------------------------------------------------------------\n",
            "25 fits failed with the following error:\n",
            "Traceback (most recent call last):\n",
            "  File \"c:\\Users\\yeosh\\AppData\\Local\\Programs\\Python\\Python311\\Lib\\site-packages\\sklearn\\model_selection\\_validation.py\", line 890, in _fit_and_score\n",
            "    estimator.fit(X_train, y_train, **fit_params)\n",
            "  File \"c:\\Users\\yeosh\\AppData\\Local\\Programs\\Python\\Python311\\Lib\\site-packages\\sklearn\\base.py\", line 1351, in wrapper\n",
            "    return fit_method(estimator, *args, **kwargs)\n",
            "           ^^^^^^^^^^^^^^^^^^^^^^^^^^^^^^^^^^^^^^\n",
            "  File \"c:\\Users\\yeosh\\AppData\\Local\\Programs\\Python\\Python311\\Lib\\site-packages\\sklearn\\svm\\_classes.py\", line 325, in fit\n",
            "    self.coef_, self.intercept_, n_iter_ = _fit_liblinear(\n",
            "                                           ^^^^^^^^^^^^^^^\n",
            "  File \"c:\\Users\\yeosh\\AppData\\Local\\Programs\\Python\\Python311\\Lib\\site-packages\\sklearn\\svm\\_base.py\", line 1216, in _fit_liblinear\n",
            "    solver_type = _get_liblinear_solver_type(multi_class, penalty, loss, dual)\n",
            "                  ^^^^^^^^^^^^^^^^^^^^^^^^^^^^^^^^^^^^^^^^^^^^^^^^^^^^^^^^^^^^\n",
            "  File \"c:\\Users\\yeosh\\AppData\\Local\\Programs\\Python\\Python311\\Lib\\site-packages\\sklearn\\svm\\_base.py\", line 1047, in _get_liblinear_solver_type\n",
            "    raise ValueError(\n",
            "ValueError: Unsupported set of arguments: The combination of penalty='l2' and loss='hinge' are not supported when dual=False, Parameters: penalty='l2', loss='hinge', dual=False\n",
            "\n",
            "  warnings.warn(some_fits_failed_message, FitFailedWarning)\n",
            "c:\\Users\\yeosh\\AppData\\Local\\Programs\\Python\\Python311\\Lib\\site-packages\\sklearn\\model_selection\\_search.py:1051: UserWarning: One or more of the test scores are non-finite: [       nan        nan 0.72818815 0.73236498        nan        nan\n",
            " 0.73388192 0.73594353        nan        nan 0.73464186 0.73467846\n",
            "        nan        nan 0.73431496 0.73449662        nan        nan\n",
            " 0.7344595  0.73449574]\n",
            "  warnings.warn(\n"
          ]
        }
      ],
      "source": [
        "#Tuning\n",
        "svm_param_grid = {\n",
        "    'C': [0.01, 0.1, 1, 10, 100],\n",
        "    'penalty': ['l1', 'l2'],\n",
        "    'loss': ['hinge', 'squared_hinge']\n",
        "}\n",
        "\n",
        "# Grid search\n",
        "tuned_svm_grid = GridSearchCV(LinearSVC(dual=False, max_iter=3000, random_state=RANDOM_STATE), svm_param_grid, scoring = 'f1_macro')\n",
        "tuned_svm_grid.fit(X_SMOTE, y_SMOTE)\n",
        "print(tuned_svm_grid.best_params_)"
      ]
    },
    {
      "cell_type": "code",
      "execution_count": 262,
      "metadata": {
        "id": "GKAf5oknM4pd"
      },
      "outputs": [
        {
          "name": "stdout",
          "output_type": "stream",
          "text": [
            "              precision    recall  f1-score   support\n",
            "\n",
            "         0.0     0.9812    0.7262    0.8347      3455\n",
            "         1.0     0.0921    0.6667    0.1619       144\n",
            "\n",
            "    accuracy                         0.7238      3599\n",
            "   macro avg     0.5367    0.6964    0.4983      3599\n",
            "weighted avg     0.9457    0.7238    0.8077      3599\n",
            "\n",
            "AUC: 0.6964\n",
            "\n",
            "        Pred 0  Pred 1\n",
            "True 0    2509     946\n",
            "True 1      48      96\n"
          ]
        }
      ],
      "source": [
        "svm_best_estimator = tuned_svm_grid.best_estimator_\n",
        "tuned_svm_pred = svm_best_estimator.predict(X_test)\n",
        "evaluate_model(tuned_svm_pred)"
      ]
    },
    {
      "cell_type": "markdown",
      "metadata": {
        "id": "qaxuPhMIQekl"
      },
      "source": [
        "## 7.3 Random Forest"
      ]
    },
    {
      "cell_type": "markdown",
      "metadata": {},
      "source": [
        "### After Feature Selection"
      ]
    },
    {
      "cell_type": "code",
      "execution_count": 263,
      "metadata": {
        "id": "EKRD-gTcQhFw"
      },
      "outputs": [
        {
          "name": "stdout",
          "output_type": "stream",
          "text": [
            "              precision    recall  f1-score   support\n",
            "\n",
            "         0.0     0.9605    0.9994    0.9796      3455\n",
            "         1.0     0.5000    0.0139    0.0270       144\n",
            "\n",
            "    accuracy                         0.9600      3599\n",
            "   macro avg     0.7303    0.5067    0.5033      3599\n",
            "weighted avg     0.9421    0.9600    0.9415      3599\n",
            "\n",
            "AUC: 0.5067\n",
            "\n",
            "        Pred 0  Pred 1\n",
            "True 0    3453       2\n",
            "True 1     142       2\n"
          ]
        }
      ],
      "source": [
        "fs_rf_model = RandomForestClassifier(random_state = RANDOM_STATE)\n",
        "fs_rf_model.fit(X_train, y_train)\n",
        "fs_rf_pred = fs_rf_model.predict(X_test)\n",
        "evaluate_model(fs_rf_pred)"
      ]
    },
    {
      "cell_type": "markdown",
      "metadata": {},
      "source": [
        "### After SMOTE"
      ]
    },
    {
      "cell_type": "code",
      "execution_count": 268,
      "metadata": {
        "id": "8ZYdpa6JeUxM"
      },
      "outputs": [
        {
          "name": "stdout",
          "output_type": "stream",
          "text": [
            "              precision    recall  f1-score   support\n",
            "\n",
            "         0.0     0.9675    0.9740    0.9707      3455\n",
            "         1.0     0.2562    0.2153    0.2340       144\n",
            "\n",
            "    accuracy                         0.9436      3599\n",
            "   macro avg     0.6119    0.5946    0.6023      3599\n",
            "weighted avg     0.9390    0.9436    0.9412      3599\n",
            "\n",
            "AUC: 0.5946\n",
            "\n",
            "        Pred 0  Pred 1\n",
            "True 0    3365      90\n",
            "True 1     113      31\n"
          ]
        }
      ],
      "source": [
        "smote_rf_model = RandomForestClassifier(random_state = RANDOM_STATE)\n",
        "smote_rf_model.fit(X_SMOTE, y_SMOTE)\n",
        "smote_rf_pred = smote_rf_model.predict(X_test)\n",
        "evaluate_model(smote_rf_pred)"
      ]
    },
    {
      "cell_type": "markdown",
      "metadata": {},
      "source": [
        "### After Tuning"
      ]
    },
    {
      "cell_type": "code",
      "execution_count": null,
      "metadata": {
        "id": "DzWHGJLUeWoe"
      },
      "outputs": [],
      "source": [
        "# Tuning\n",
        "rf_params = {\n",
        "    'n_estimators': [100, 300, 500],\n",
        "    'min_samples_split': [2, 6, 10],\n",
        "    'min_samples_leaf': [1, 3, 5]\n",
        "}\n",
        "# perform grid search and then fit\n",
        "tuned_rf_model = GridSearchCV(RandomForestClassifier(random_state = RANDOM_STATE), rf_params, scoring = 'f1_macro')\n",
        "tuned_rf_model.fit(X_SMOTE, y_SMOTE)\n",
        "print(tuned_rf_model.best_params_)"
      ]
    },
    {
      "cell_type": "code",
      "execution_count": null,
      "metadata": {
        "id": "aJyZAYmGeXzz"
      },
      "outputs": [],
      "source": [
        "rf_best_estimator = tuned_rf_model.best_estimator_\n",
        "tuned_rf_pred = rf_best_estimator.predict(X_test)\n",
        "evaluate_model(tuned_rf_pred)"
      ]
    },
    {
      "cell_type": "markdown",
      "metadata": {
        "id": "RM8NSe15Qhz4"
      },
      "source": [
        "## 7.4 xgBoost"
      ]
    },
    {
      "cell_type": "markdown",
      "metadata": {},
      "source": [
        "### After Feature Selection"
      ]
    },
    {
      "cell_type": "code",
      "execution_count": 285,
      "metadata": {
        "id": "9jKPb01VQkRB"
      },
      "outputs": [
        {
          "name": "stdout",
          "output_type": "stream",
          "text": [
            "              precision    recall  f1-score   support\n",
            "\n",
            "         0.0     0.9632    0.9933    0.9781      3455\n",
            "         1.0     0.3611    0.0903    0.1444       144\n",
            "\n",
            "    accuracy                         0.9572      3599\n",
            "   macro avg     0.6622    0.5418    0.5613      3599\n",
            "weighted avg     0.9391    0.9572    0.9447      3599\n",
            "\n",
            "AUC: 0.5418\n",
            "\n",
            "        Pred 0  Pred 1\n",
            "True 0    3432      23\n",
            "True 1     131      13\n"
          ]
        }
      ],
      "source": [
        "fs_xgboost_model = XGBClassifier(random_state = RANDOM_STATE)\n",
        "fs_xgboost_model.fit(X_train, y_train)\n",
        "fs_xgboost_pred = fs_xgboost_model.predict(X_test)\n",
        "evaluate_model(fs_xgboost_pred)\n"
      ]
    },
    {
      "cell_type": "markdown",
      "metadata": {},
      "source": [
        "### After SMOTE"
      ]
    },
    {
      "cell_type": "code",
      "execution_count": 286,
      "metadata": {
        "id": "UP8J4vt2M8Fx"
      },
      "outputs": [
        {
          "name": "stdout",
          "output_type": "stream",
          "text": [
            "              precision    recall  f1-score   support\n",
            "\n",
            "         0.0     0.9641    0.9792    0.9716      3455\n",
            "         1.0     0.2000    0.1250    0.1538       144\n",
            "\n",
            "    accuracy                         0.9450      3599\n",
            "   macro avg     0.5820    0.5521    0.5627      3599\n",
            "weighted avg     0.9335    0.9450    0.9389      3599\n",
            "\n",
            "AUC: 0.5521\n",
            "\n",
            "        Pred 0  Pred 1\n",
            "True 0    3383      72\n",
            "True 1     126      18\n"
          ]
        }
      ],
      "source": [
        "smote_xgboost_model = XGBClassifier(random_state = RANDOM_STATE)\n",
        "smote_xgboost_model.fit(X_SMOTE, y_SMOTE)\n",
        "smote_xgboost_pred = smote_xgboost_model.predict(X_test)\n",
        "evaluate_model(smote_xgboost_pred)"
      ]
    },
    {
      "cell_type": "markdown",
      "metadata": {},
      "source": [
        "### After Tuning"
      ]
    },
    {
      "cell_type": "code",
      "execution_count": null,
      "metadata": {
        "id": "99pYyHDRM9l5"
      },
      "outputs": [],
      "source": [
        "# Create the grid\n",
        "xgboost_params = {\n",
        "    'n_estimators': [100, 300, 500, 700],\n",
        "    'max_depth': [8, 10, 12],\n",
        "    'gamma': [0, 0.2, 0.4],\n",
        "    'eta': [0.1],\n",
        "    'min_child_weight': [1, 3, 5]\n",
        "}\n",
        "\n",
        "# Grid Search\n",
        "tuned_xgboost_model = GridSearchCV(XGBClassifier(random_state = RANDOM_STATE), xgboost_params, scoring = 'f1_macro')\n",
        "tuned_xgboost_model.fit(X_SMOTE, y_SMOTE)\n",
        "print(tuned_xgboost_model.best_params_)"
      ]
    },
    {
      "cell_type": "code",
      "execution_count": null,
      "metadata": {},
      "outputs": [],
      "source": [
        "xgboost_best_estimator = tuned_xgboost_model.best_estimator_\n",
        "tuned_xgboost_pred = xgboost_best_estimator.predict(X_test)\n",
        "evaluate_model(tuned_xgboost_pred)"
      ]
    },
    {
      "cell_type": "markdown",
      "metadata": {
        "id": "sxj1qSmmQkpS"
      },
      "source": [
        "## 7.5 Neural Network"
      ]
    },
    {
      "cell_type": "markdown",
      "metadata": {},
      "source": [
        "### After Feature Selection"
      ]
    },
    {
      "cell_type": "code",
      "execution_count": 283,
      "metadata": {
        "id": "pYqBuSsxQn7_"
      },
      "outputs": [
        {
          "name": "stdout",
          "output_type": "stream",
          "text": [
            "113/113 [==============================] - 0s 813us/step\n",
            "              precision    recall  f1-score   support\n",
            "\n",
            "         0.0     0.9625    0.9954    0.9787      3455\n",
            "         1.0     0.3846    0.0694    0.1176       144\n",
            "\n",
            "    accuracy                         0.9583      3599\n",
            "   macro avg     0.6736    0.5324    0.5482      3599\n",
            "weighted avg     0.9394    0.9583    0.9442      3599\n",
            "\n",
            "AUC: 0.5324\n",
            "\n",
            "        Pred 0  Pred 1\n",
            "True 0    3439      16\n",
            "True 1     134      10\n"
          ]
        }
      ],
      "source": [
        "#Hyperparameters and settings\n",
        "learning_rate = 0.01\n",
        "loss_function = tf.keras.losses.binary_crossentropy\n",
        "optimiser_function = tf.keras.optimizers.Adam(learning_rate=learning_rate)\n",
        "\n",
        "tf.random.set_seed(RANDOM_STATE)\n",
        "\n",
        "#Model setup\n",
        "fs_nn_model = tf.keras.Sequential([\n",
        "    tf.keras.layers.Dense(64, activation = \"relu\"), #Hidden 1\n",
        "    tf.keras.layers.Dense(16, activation = \"relu\"), #Hidden 2\n",
        "    tf.keras.layers.Dense(1, activation = \"sigmoid\") #Output\n",
        "])\n",
        "\n",
        "fs_nn_model.compile(\n",
        "    loss = loss_function,\n",
        "    optimizer = optimiser_function,\n",
        "    metrics=[\n",
        "        tf.keras.metrics.F1Score(name=\"f1score\"),\n",
        "        tf.keras.metrics.BinaryAccuracy(name=\"accuracy\"),\n",
        "        tf.keras.metrics.Recall(name=\"recall\"),\n",
        "        tf.keras.metrics.Precision(name=\"precision\")\n",
        "    ]\n",
        ")\n",
        "\n",
        "#Train model\n",
        "fs_nn_model.fit(X_train, y_train, epochs=50, verbose = 0)\n",
        "\n",
        "# Make predictions\n",
        "fs_nn_pred_raw = fs_nn_model.predict(X_test)\n",
        "fs_nn_pred = [1 if prob > 0.5 else 0 for prob in np.ravel(fs_nn_pred_raw)]\n",
        "\n",
        "#Evaluation\n",
        "evaluate_model(fs_nn_pred)"
      ]
    },
    {
      "cell_type": "markdown",
      "metadata": {},
      "source": [
        "### After SMOTE"
      ]
    },
    {
      "cell_type": "code",
      "execution_count": 282,
      "metadata": {
        "id": "G3BOg17SNDBO"
      },
      "outputs": [
        {
          "name": "stdout",
          "output_type": "stream",
          "text": [
            "113/113 [==============================] - 0s 865us/step\n",
            "              precision    recall  f1-score   support\n",
            "\n",
            "         0.0     0.9694    0.8336    0.8964      3455\n",
            "         1.0     0.0844    0.3681    0.1373       144\n",
            "\n",
            "    accuracy                         0.8149      3599\n",
            "   macro avg     0.5269    0.6008    0.5168      3599\n",
            "weighted avg     0.9340    0.8149    0.8660      3599\n",
            "\n",
            "AUC: 0.6008\n",
            "\n",
            "        Pred 0  Pred 1\n",
            "True 0    2880     575\n",
            "True 1      91      53\n"
          ]
        }
      ],
      "source": [
        "#Hyperparameters and settings\n",
        "learning_rate = 0.01\n",
        "loss_function = tf.keras.losses.binary_crossentropy\n",
        "optimiser_function = tf.keras.optimizers.Adam(learning_rate=learning_rate)\n",
        "\n",
        "tf.random.set_seed(RANDOM_STATE)\n",
        "\n",
        "#Model setup\n",
        "smote_nn_model = tf.keras.Sequential([\n",
        "    tf.keras.layers.Dense(64, activation = \"relu\"), #Hidden 1\n",
        "    tf.keras.layers.Dense(16, activation = \"relu\"), #Hidden 2\n",
        "    tf.keras.layers.Dense(1, activation = \"sigmoid\") #Output\n",
        "])\n",
        "\n",
        "smote_nn_model.compile(\n",
        "    loss = loss_function,\n",
        "    optimizer = optimiser_function,\n",
        "    metrics=[\n",
        "        tf.keras.metrics.F1Score(name=\"f1score\"),\n",
        "        tf.keras.metrics.BinaryAccuracy(name=\"accuracy\"),\n",
        "        tf.keras.metrics.Recall(name=\"recall\"),\n",
        "        tf.keras.metrics.Precision(name=\"precision\")\n",
        "    ]\n",
        ")\n",
        "\n",
        "#Train model\n",
        "smote_nn_model.fit(X_SMOTE, y_SMOTE, epochs=50, verbose = 0)\n",
        "\n",
        "# Make predictions\n",
        "smote_nn_pred_raw = smote_nn_model.predict(X_test)\n",
        "smote_nn_pred = [1 if prob > 0.5 else 0 for prob in np.ravel(smote_nn_pred_raw)]\n",
        "\n",
        "#Evaluation\n",
        "evaluate_model(smote_nn_pred)"
      ]
    },
    {
      "cell_type": "markdown",
      "metadata": {},
      "source": [
        "### After Tuning\n",
        "Due to computing power constraints, we did not carry out Grid Search for neural networks. Instead, we arbitrarily changed values for various hyperparameters until we found a better performing model. \n",
        "With more time and computing power, GridSearchCV can be done to determine the activation functions, number of nodes, and the loss function hyperparameters. "
      ]
    },
    {
      "cell_type": "code",
      "execution_count": 284,
      "metadata": {
        "id": "QHQRHLkMcY85"
      },
      "outputs": [
        {
          "name": "stdout",
          "output_type": "stream",
          "text": [
            "113/113 [==============================] - 0s 810us/step\n",
            "              precision    recall  f1-score   support\n",
            "\n",
            "         0.0     0.9710    0.7933    0.8732      3455\n",
            "         1.0     0.0799    0.4306    0.1348       144\n",
            "\n",
            "    accuracy                         0.7788      3599\n",
            "   macro avg     0.5254    0.6119    0.5040      3599\n",
            "weighted avg     0.9353    0.7788    0.8437      3599\n",
            "\n",
            "AUC: 0.6119\n",
            "\n",
            "        Pred 0  Pred 1\n",
            "True 0    2741     714\n",
            "True 1      82      62\n"
          ]
        }
      ],
      "source": [
        "#Hyperparameters and settings\n",
        "learning_rate = 0.01\n",
        "loss_function = tf.keras.losses.binary_crossentropy\n",
        "optimiser_function = tf.keras.optimizers.Adam(learning_rate=learning_rate)\n",
        "\n",
        "tf.random.set_seed(RANDOM_STATE)\n",
        "\n",
        "#Model setup\n",
        "tuned_nn_model = tf.keras.Sequential([\n",
        "    tf.keras.layers.Dense(64, activation = \"relu\"), #Hidden 1\n",
        "    tf.keras.layers.Dense(1, activation = \"sigmoid\") #Output\n",
        "])\n",
        "\n",
        "tuned_nn_model.compile(\n",
        "    loss = loss_function,\n",
        "    optimizer = optimiser_function,\n",
        "    metrics=[\n",
        "        tf.keras.metrics.F1Score(name=\"f1score\"),\n",
        "        tf.keras.metrics.BinaryAccuracy(name=\"accuracy\"),\n",
        "        tf.keras.metrics.Recall(name=\"recall\"),\n",
        "        tf.keras.metrics.Precision(name=\"precision\")\n",
        "    ]\n",
        ")\n",
        "\n",
        "#Train model\n",
        "tuned_nn_model.fit(X_SMOTE, y_SMOTE, epochs=50, verbose = 0)\n",
        "\n",
        "# Make predictions\n",
        "tuned_nn_pred_raw = tuned_nn_model.predict(X_test)\n",
        "tuned_nn_pred = [1 if prob > 0.5 else 0 for prob in np.ravel(tuned_nn_pred_raw)]\n",
        "\n",
        "#Evaluation\n",
        "evaluate_model(tuned_nn_pred)"
      ]
    },
    {
      "cell_type": "markdown",
      "metadata": {
        "id": "ng_86n4jQt2h"
      },
      "source": [
        "# 8 Final Comparisons and Conclusion"
      ]
    },
    {
      "cell_type": "markdown",
      "metadata": {},
      "source": [
        "## 8.1 Performance Table\n",
        "All values are given as macro average of f1-scores\n",
        "\n",
        "| Model | Initial | Feature Selection | SMOTE | Tuning | \n",
        "| --- | --- | --- | --- | --- |\n",
        "| Logistic Regression | 0.5422 | 0.4964 | 0.4958 | 0.4946 |\n",
        "| Support Vector Machine | 0.4897 | 0.4898 | 0.4957 | 0.4983 |\n",
        "| Random Forest | 0.4896 | 0.5033 | 0.6023 | 0.6292 |\n",
        "| XGBoost | 0.5948 | 0.5613 | 0.5627 | 0.6103 |\n",
        "| Neural Network | 0.5778 | 0.5482 | 0.5168 | 0.5040 |"
      ]
    },
    {
      "cell_type": "markdown",
      "metadata": {},
      "source": [
        "## 8.2 Analysis\n",
        "### Overall Performances\n",
        "- Overall, the performance as measured by the macro average f1 metric is rather poor, with all models not going above 0.65.\n",
        "- Models generally performed well for true negatives, with high True Negative Rates (TNR). However, this is not the same for True Positive Rates. All models correctly predicted a True Positive less than half the time, a rather abysmal rate. \n",
        "\n",
        "### Improvement Methods\n",
        "- Feature selection improved various models, notably the tree based models such as Random Forest and XGBoost. The other models deproved.\n",
        "- After SMOTE, Random Forest had a massive increase in performance, while the others had slight increases or decreases. \n",
        "- Unfortunately, tuning the models did not result in significant performance increases. Only Random Forest and XGBoost had a notable improvement. "
      ]
    },
    {
      "cell_type": "markdown",
      "metadata": {},
      "source": [
        "## 8.3 Conclusion\n",
        "We conclude that the best model to use is Random Forest. However, it would not be reliable predictor of true positives. "
      ]
    },
    {
      "cell_type": "markdown",
      "metadata": {},
      "source": [
        "## 8.4 Improvements\n",
        "- Better cleaning of the dataset or a higher quality dataset. Currently, it contains numerous Null values unaccounted for, which we had to fix based on our best judgement. \n",
        "- More time or computing power, for model training and tuning. \n",
        "- Used a metric focused on True Positives instead of a overall metric, since those are customers that would generate revenue for the company."
      ]
    },
    {
      "cell_type": "markdown",
      "metadata": {
        "id": "gJeKVGqLOb3C"
      },
      "source": [
        "# 9 Appendix"
      ]
    },
    {
      "cell_type": "markdown",
      "metadata": {
        "id": "8NofnPzcCS6s"
      },
      "source": [
        "## 9.1 Testing for Multicollinearity"
      ]
    },
    {
      "cell_type": "markdown",
      "metadata": {
        "id": "i0rdyThKCdG_"
      },
      "source": [
        "Category 1: Client Risk and Status Indicators"
      ]
    },
    {
      "cell_type": "code",
      "execution_count": null,
      "metadata": {
        "id": "6jBdQ71XOckJ"
      },
      "outputs": [],
      "source": [
        "# CONCLUSION: low multicollinearity; keep all 10 features\n",
        "client_risk_status_indicators_features = [\"flg_substandard\",\n",
        "                                          \"flg_is_borderline_standard\",\n",
        "                                          \"flg_is_revised_term\",\n",
        "                                          \"flg_is_rental_flat\",\n",
        "                                          \"flg_has_health_claim\",\n",
        "                                          \"flg_has_life_claim\",\n",
        "                                          \"flg_gi_claim\",\n",
        "                                          \"flg_is_proposal\",\n",
        "                                          \"flg_with_preauthorisation\",\n",
        "                                          \"flg_is_returned_mail\"]\n",
        "\n",
        "cat1_features_to_test = []\n",
        "\n",
        "for col in df.columns:\n",
        "    if col in client_risk_status_indicators_features:\n",
        "        cat1_features_to_test.append(col)"
      ]
    },
    {
      "cell_type": "code",
      "execution_count": null,
      "metadata": {
        "id": "1j_CuoIbCbxs"
      },
      "outputs": [],
      "source": [
        "cat1_correlation_matrix = df[cat1_features_to_test].corr()\n",
        "\n",
        "sns.heatmap(cat1_correlation_matrix, annot=True, cmap='coolwarm', fmt=\".2f\")\n",
        "plt.title(\"Correlation Matrix\")\n",
        "plt.show()"
      ]
    },
    {
      "cell_type": "code",
      "execution_count": null,
      "metadata": {
        "id": "FGZf43UoClVa"
      },
      "outputs": [],
      "source": [
        "X = df[cat1_features_to_test]\n",
        "vif_data = pd.DataFrame()\n",
        "vif_data[\"Feature\"] = X.columns\n",
        "vif_data[\"VIF\"] = [variance_inflation_factor(X.values, i) for i in range(X.shape[1])]\n",
        "\n",
        "print(\"VIF Data:\")\n",
        "print(vif_data)"
      ]
    },
    {
      "cell_type": "markdown",
      "metadata": {
        "id": "kZqV5NkPCoa0"
      },
      "source": [
        "Category 2: Client Consent and Communication Preferences\n"
      ]
    },
    {
      "cell_type": "code",
      "execution_count": null,
      "metadata": {
        "id": "phZKjpn4CwF3"
      },
      "outputs": [],
      "source": [
        "# CONCLUSION: moderate multicollinearity for features is_consent_to_mail, is_consent_to_email\n",
        "client_consent_and_communication_features = [\"is_consent_to_mail\",\n",
        "                                             \"is_consent_to_email\",\n",
        "                                             \"is_consent_to_call\",\n",
        "                                             \"is_consent_to_sms\",\n",
        "                                             \"is_valid_dm\",\n",
        "                                             \"is_valid_email\"]\n",
        "\n",
        "cat2_features_to_test = []\n",
        "\n",
        "for col in df.columns:\n",
        "    if col in client_consent_and_communication_features:\n",
        "        cat2_features_to_test.append(col)"
      ]
    },
    {
      "cell_type": "code",
      "execution_count": null,
      "metadata": {
        "id": "7fI7SYpFCx5e"
      },
      "outputs": [],
      "source": [
        "cat2_correlation_matrix = df[cat2_features_to_test].corr()\n",
        "\n",
        "sns.heatmap(cat2_correlation_matrix, annot=True, cmap='coolwarm', fmt=\".2f\")\n",
        "plt.title(\"Correlation Matrix\")\n",
        "plt.show()"
      ]
    },
    {
      "cell_type": "code",
      "execution_count": null,
      "metadata": {
        "id": "viIBBHdPCzmI"
      },
      "outputs": [],
      "source": [
        "X = df[cat2_features_to_test]\n",
        "vif_data = pd.DataFrame()\n",
        "vif_data[\"Feature\"] = X.columns\n",
        "vif_data[\"VIF\"] = [variance_inflation_factor(X.values, i) for i in range(X.shape[1])]\n",
        "\n",
        "print(\"VIF Data:\")\n",
        "print(vif_data)"
      ]
    },
    {
      "cell_type": "markdown",
      "metadata": {
        "id": "3x2PcQPmC2Og"
      },
      "source": [
        "Category 3: Demographic and Household Information"
      ]
    },
    {
      "cell_type": "code",
      "execution_count": null,
      "metadata": {
        "id": "A0ZssfTJC43x"
      },
      "outputs": [],
      "source": [
        "# CONCLUSION\n",
        "# High multicollinearity: is_sg_pr, hh_20, pop_20, hh_size\n",
        "# However, since hh_size is highly correlated with hh_size_est and hh_size_est is in need of conversion, \n",
        "# we keep hh_size and drop hh_size_est\n",
        "demographic_household_info_features = [\"is_housewife_retiree\",\n",
        "                                       \"is_sg_pr\",\n",
        "                                       \"is_class_1_2\",\n",
        "                                       \"is_dependent_in_at_least_1_policy\",\n",
        "                                       \"hh_20\",\n",
        "                                       \"pop_20\",\n",
        "                                       \"hh_size\",\n",
        "                                       \"hh_size_est\",\n",
        "                                       \"annual_income_est\"]\n",
        "\n",
        "cat3_features_to_test = []\n",
        "\n",
        "for col in df.columns:\n",
        "    if col in demographic_household_info_features:\n",
        "        cat3_features_to_test.append(col)"
      ]
    },
    {
      "cell_type": "code",
      "execution_count": null,
      "metadata": {
        "id": "spRTHROvC6tl"
      },
      "outputs": [],
      "source": [
        "cat3_correlation_matrix = df[cat3_features_to_test].corr()\n",
        "\n",
        "sns.heatmap(cat3_correlation_matrix, annot=True, cmap='coolwarm', fmt=\".2f\")\n",
        "plt.title(\"Correlation Matrix\")\n",
        "plt.show()"
      ]
    },
    {
      "cell_type": "code",
      "execution_count": null,
      "metadata": {
        "id": "2aCN411uC8gK"
      },
      "outputs": [],
      "source": [
        "X = df[cat3_features_to_test]\n",
        "vif_data = pd.DataFrame()\n",
        "vif_data[\"Feature\"] = X.columns\n",
        "vif_data[\"VIF\"] = [variance_inflation_factor(X.values, i) for i in range(X.shape[1])]\n",
        "\n",
        "print(\"VIF Data:\")\n",
        "print(vif_data)"
      ]
    },
    {
      "cell_type": "markdown",
      "metadata": {
        "id": "vGX2YHCaC_LQ"
      },
      "source": [
        "Category 4: Policy and Claim History\n"
      ]
    },
    {
      "cell_type": "code",
      "execution_count": null,
      "metadata": {
        "id": "9MGxlpDPDBzH"
      },
      "outputs": [],
      "source": [
        "# CONCLUSION: all low multicollinearity; keep all\n",
        "policy_and_claim_history_features = [\"n_months_last_bought_products\",\n",
        "                                     \"flg_latest_being_lapse\",\n",
        "                                     \"flg_latest_being_cancel\",\n",
        "                                     \"recency_lapse\",\n",
        "                                     \"recency_cancel\",\n",
        "                                     \"tot_inforce_pols\",\n",
        "                                     \"tot_cancel_pols\",\n",
        "                                     \"f_ever_declined_la\"]\n",
        "\n",
        "cat4_features_to_test = []\n",
        "\n",
        "for col in df.columns:\n",
        "    if col in policy_and_claim_history_features:\n",
        "        cat4_features_to_test.append(col)"
      ]
    },
    {
      "cell_type": "code",
      "execution_count": null,
      "metadata": {
        "id": "JbOxGe-eDDky"
      },
      "outputs": [],
      "source": [
        "cat4_correlation_matrix = df[cat4_features_to_test].corr()\n",
        "\n",
        "sns.heatmap(cat4_correlation_matrix, annot=True, cmap='coolwarm', fmt=\".2f\")\n",
        "plt.title(\"Correlation Matrix\")\n",
        "plt.show()"
      ]
    },
    {
      "cell_type": "code",
      "execution_count": null,
      "metadata": {
        "id": "WJZeqnTjDFj4"
      },
      "outputs": [],
      "source": [
        "X = df[cat4_features_to_test]\n",
        "vif_data = pd.DataFrame()\n",
        "vif_data[\"Feature\"] = X.columns\n",
        "vif_data[\"VIF\"] = [variance_inflation_factor(X.values, i) for i in range(X.shape[1])]\n",
        "\n",
        "print(\"VIF Data:\")\n",
        "print(vif_data)"
      ]
    },
    {
      "cell_type": "markdown",
      "metadata": {
        "id": "F8mic-5uDHr2"
      },
      "source": [
        "Category 5: Other Flags and Metrics\n"
      ]
    },
    {
      "cell_type": "code",
      "execution_count": null,
      "metadata": {
        "id": "0V_iP2F-DLWL"
      },
      "outputs": [],
      "source": [
        "# CONCLUSION: remove recency_hlthclaim, recency_giclaim\n",
        "other_flags_and_metrics_features = [\"f_elx\",\n",
        "                                    \"f_mindef_mha\",\n",
        "                                    \"f_retail\",\n",
        "                                    \"flg_affconnect_show_interest_ever\",\n",
        "                                    \"flg_affconnect_ready_to_buy_ever\",\n",
        "                                    \"flg_affconnect_lapse_ever\",\n",
        "                                    \"affcon_visit_days\",\n",
        "                                    \"n_months_since_visit_affcon\",\n",
        "                                    \"clmcon_visit_days\",\n",
        "                                    \"recency_clmcon\",\n",
        "                                    \"recency_clmcon_regis\",\n",
        "                                    \"hlthclaim_amt\",\n",
        "                                    \"giclaim_amt\",\n",
        "                                    \"recency_hlthclaim\",\n",
        "                                    \"recency_giclaim\",\n",
        "                                    \"hlthclaim_cnt_success\",\n",
        "                                    \"giclaim_cnt_success\"]\n",
        "\n",
        "cat5_features_to_test = []\n",
        "\n",
        "for col in df.columns:\n",
        "    if col in other_flags_and_metrics_features:\n",
        "        cat5_features_to_test.append(col)"
      ]
    },
    {
      "cell_type": "code",
      "execution_count": null,
      "metadata": {
        "id": "t2Z-_bm-DNd6"
      },
      "outputs": [],
      "source": [
        "# Flags possibly related to client's association with specific programs or sectors.\n",
        "X = df[[\"f_elx\", \"f_mindef_mha\", \"f_retail\"]]\n",
        "vif_data = pd.DataFrame()\n",
        "vif_data[\"Feature\"] = X.columns\n",
        "vif_data[\"VIF\"] = [variance_inflation_factor(X.values, i) for i in range(X.shape[1])]\n",
        "\n",
        "print(\"VIF Data:\")\n",
        "print(vif_data)"
      ]
    },
    {
      "cell_type": "code",
      "execution_count": null,
      "metadata": {
        "id": "AcO9SkLhDRxG"
      },
      "outputs": [],
      "source": [
        "# Metrics related to client’s activity in affinity connect\n",
        "X = df[[\"flg_affconnect_show_interest_ever\", \"flg_affconnect_ready_to_buy_ever\", \"flg_affconnect_lapse_ever\", \"affcon_visit_days\", \"n_months_since_visit_affcon\"]]\n",
        "vif_data = pd.DataFrame()\n",
        "vif_data[\"Feature\"] = X.columns\n",
        "vif_data[\"VIF\"] = [variance_inflation_factor(X.values, i) for i in range(X.shape[1])]\n",
        "\n",
        "print(\"VIF Data:\")\n",
        "print(vif_data)"
      ]
    },
    {
      "cell_type": "code",
      "execution_count": null,
      "metadata": {
        "id": "nWcv7ZZ-DT5K"
      },
      "outputs": [],
      "source": [
        "# Metrics related to client’s activity in claim connect\n",
        "X = df[[\"clmcon_visit_days\", \"recency_clmcon\", \"recency_clmcon_regis\"]]\n",
        "vif_data = pd.DataFrame()\n",
        "vif_data[\"Feature\"] = X.columns\n",
        "vif_data[\"VIF\"] = [variance_inflation_factor(X.values, i) for i in range(X.shape[1])]\n",
        "\n",
        "print(\"VIF Data:\")\n",
        "print(vif_data)"
      ]
    },
    {
      "cell_type": "code",
      "execution_count": null,
      "metadata": {
        "id": "ifsRZQF8DWrY"
      },
      "outputs": [],
      "source": [
        "# Health and general insurance claim-related metrics\n",
        "X = df[[\"hlthclaim_amt\", \"giclaim_amt\", \"recency_hlthclaim\", \"recency_giclaim\", \"hlthclaim_cnt_success\"]]\n",
        "vif_data = pd.DataFrame()\n",
        "vif_data[\"Feature\"] = X.columns\n",
        "vif_data[\"VIF\"] = [variance_inflation_factor(X.values, i) for i in range(X.shape[1])]\n",
        "\n",
        "print(\"VIF Data:\")\n",
        "print(vif_data)"
      ]
    },
    {
      "cell_type": "markdown",
      "metadata": {
        "id": "AFjAAxW-0XmU"
      },
      "source": [
        "## 9.2 Replacing NaN values from Race with proportion"
      ]
    },
    {
      "cell_type": "code",
      "execution_count": null,
      "metadata": {
        "colab": {
          "base_uri": "https://localhost:8080/",
          "height": 513
        },
        "id": "JikUw2270dkm",
        "outputId": "00c09c61-e0f0-4e8e-de6e-16fe03779c47"
      },
      "outputs": [
        {
          "data": {
            "image/png": "[encoded data removed]",
            "text/plain": [
              "<Figure size 640x480 with 1 Axes>"
            ]
          },
          "metadata": {},
          "output_type": "display_data"
        }
      ],
      "source": [
        "import pandas as pd\n",
        "import matplotlib.pyplot as plt\n",
        "import numpy as np\n",
        "\n",
        "def replace_with_proportion(frame, column):\n",
        "     isnull = frame[column].isnull()\n",
        "     sample = frame[column].dropna()\n",
        "     sample=set(sample)\n",
        "     countframe=pd.DataFrame(columns=[\"name\", \"count\", \"proportion\"])\n",
        "     for x in sample:\n",
        "          countframe.loc[-1] = [x,frame.loc[frame[column] == x].shape[0], 0 ]\n",
        "          countframe.index = countframe.index + 1\n",
        "     countframe['proportion']=countframe['count']/countframe['count'].sum()\n",
        "     to_fill=np.random.choice(countframe['name'], size=(frame[column].isnull().sum(),), p=countframe['proportion'])\n",
        "     frame.loc[isnull, column] = to_fill\n",
        "     return frame\n",
        "\n",
        "\n",
        "data = pd.read_parquet('catB_train.parquet')\n",
        "\n",
        "# Apply the function to replace NaN values\n",
        "data = replace_with_proportion(data, 'race_desc')\n",
        "\n",
        "# Count occurrences of each race description after replacing NaN values\n",
        "race_counts = data['race_desc'].value_counts()\n",
        "\n",
        "# Plot the data\n",
        "race_counts.plot(kind='bar')\n",
        "\n",
        "# Set labels and title\n",
        "plt.xlabel('Race')\n",
        "plt.ylabel('Number of People')\n",
        "plt.title('Number of People in Each Race')\n",
        "\n",
        "# Show the plot\n",
        "plt.show()\n",
        "\n",
        "\n"
      ]
    },
    {
      "cell_type": "markdown",
      "metadata": {
        "id": "WLF0t-llhte6"
      },
      "source": [
        "As the correlation between hh_size and hh_size_est was found to be high (~0.955), the column hh_size_est was dropped."
      ]
    },
    {
      "cell_type": "code",
      "execution_count": null,
      "metadata": {
        "colab": {
          "base_uri": "https://localhost:8080/",
          "height": 984
        },
        "id": "Q87w5ASJfwuo",
        "outputId": "dd268a74-7b0e-4aa2-acc6-2553c028cb9c"
      },
      "outputs": [
        {
          "name": "stdout",
          "output_type": "stream",
          "text": [
            "4.83302457707699\n"
          ]
        },
        {
          "data": {
            "image/png": "[encoded data removed]",
            "text/plain": [
              "<Figure size 640x480 with 1 Axes>"
            ]
          },
          "metadata": {},
          "output_type": "display_data"
        },
        {
          "ename": "KeyError",
          "evalue": "'hh_size_est'",
          "output_type": "error",
          "traceback": [
            "\u001b[0;31m---------------------------------------------------------------------------\u001b[0m",
            "\u001b[0;31mKeyError\u001b[0m                                  Traceback (most recent call last)",
            "\u001b[0;32m/usr/local/lib/python3.10/dist-packages/pandas/core/indexes/base.py\u001b[0m in \u001b[0;36mget_loc\u001b[0;34m(self, key, method, tolerance)\u001b[0m\n\u001b[1;32m   3801\u001b[0m             \u001b[0;32mtry\u001b[0m\u001b[0;34m:\u001b[0m\u001b[0;34m\u001b[0m\u001b[0;34m\u001b[0m\u001b[0m\n\u001b[0;32m-> 3802\u001b[0;31m                 \u001b[0;32mreturn\u001b[0m \u001b[0mself\u001b[0m\u001b[0;34m.\u001b[0m\u001b[0m_engine\u001b[0m\u001b[0;34m.\u001b[0m\u001b[0mget_loc\u001b[0m\u001b[0;34m(\u001b[0m\u001b[0mcasted_key\u001b[0m\u001b[0;34m)\u001b[0m\u001b[0;34m\u001b[0m\u001b[0;34m\u001b[0m\u001b[0m\n\u001b[0m\u001b[1;32m   3803\u001b[0m             \u001b[0;32mexcept\u001b[0m \u001b[0mKeyError\u001b[0m \u001b[0;32mas\u001b[0m \u001b[0merr\u001b[0m\u001b[0;34m:\u001b[0m\u001b[0;34m\u001b[0m\u001b[0;34m\u001b[0m\u001b[0m\n",
            "\u001b[0;32m/usr/local/lib/python3.10/dist-packages/pandas/_libs/index.pyx\u001b[0m in \u001b[0;36mpandas._libs.index.IndexEngine.get_loc\u001b[0;34m()\u001b[0m\n",
            "\u001b[0;32m/usr/local/lib/python3.10/dist-packages/pandas/_libs/index.pyx\u001b[0m in \u001b[0;36mpandas._libs.index.IndexEngine.get_loc\u001b[0;34m()\u001b[0m\n",
            "\u001b[0;32mpandas/_libs/hashtable_class_helper.pxi\u001b[0m in \u001b[0;36mpandas._libs.hashtable.PyObjectHashTable.get_item\u001b[0;34m()\u001b[0m\n",
            "\u001b[0;32mpandas/_libs/hashtable_class_helper.pxi\u001b[0m in \u001b[0;36mpandas._libs.hashtable.PyObjectHashTable.get_item\u001b[0;34m()\u001b[0m\n",
            "\u001b[0;31mKeyError\u001b[0m: 'hh_size_est'",
            "\nThe above exception was the direct cause of the following exception:\n",
            "\u001b[0;31mKeyError\u001b[0m                                  Traceback (most recent call last)",
            "\u001b[0;32m<ipython-input-40-1051a1b8a871>\u001b[0m in \u001b[0;36m<cell line: 47>\u001b[0;34m()\u001b[0m\n\u001b[1;32m     45\u001b[0m \u001b[0mplt\u001b[0m\u001b[0;34m.\u001b[0m\u001b[0mshow\u001b[0m\u001b[0;34m(\u001b[0m\u001b[0;34m)\u001b[0m\u001b[0;34m\u001b[0m\u001b[0;34m\u001b[0m\u001b[0m\n\u001b[1;32m     46\u001b[0m \u001b[0;34m\u001b[0m\u001b[0m\n\u001b[0;32m---> 47\u001b[0;31m \u001b[0mcorrelation\u001b[0m \u001b[0;34m=\u001b[0m \u001b[0mdf\u001b[0m\u001b[0;34m[\u001b[0m\u001b[0;34m'hh_size'\u001b[0m\u001b[0;34m]\u001b[0m\u001b[0;34m.\u001b[0m\u001b[0mcorr\u001b[0m\u001b[0;34m(\u001b[0m\u001b[0mdf\u001b[0m\u001b[0;34m[\u001b[0m\u001b[0;34m'hh_size_est'\u001b[0m\u001b[0;34m]\u001b[0m\u001b[0;34m)\u001b[0m\u001b[0;34m\u001b[0m\u001b[0;34m\u001b[0m\u001b[0m\n\u001b[0m\u001b[1;32m     48\u001b[0m \u001b[0;34m\u001b[0m\u001b[0m\n\u001b[1;32m     49\u001b[0m \u001b[0mprint\u001b[0m\u001b[0;34m(\u001b[0m\u001b[0;34m\"Correlation between 'hh_size' and 'hh_size_est':\"\u001b[0m\u001b[0;34m,\u001b[0m \u001b[0mcorrelation\u001b[0m\u001b[0;34m)\u001b[0m\u001b[0;34m\u001b[0m\u001b[0;34m\u001b[0m\u001b[0m\n",
            "\u001b[0;32m/usr/local/lib/python3.10/dist-packages/pandas/core/frame.py\u001b[0m in \u001b[0;36m__getitem__\u001b[0;34m(self, key)\u001b[0m\n\u001b[1;32m   3805\u001b[0m             \u001b[0;32mif\u001b[0m \u001b[0mself\u001b[0m\u001b[0;34m.\u001b[0m\u001b[0mcolumns\u001b[0m\u001b[0;34m.\u001b[0m\u001b[0mnlevels\u001b[0m \u001b[0;34m>\u001b[0m \u001b[0;36m1\u001b[0m\u001b[0;34m:\u001b[0m\u001b[0;34m\u001b[0m\u001b[0;34m\u001b[0m\u001b[0m\n\u001b[1;32m   3806\u001b[0m                 \u001b[0;32mreturn\u001b[0m \u001b[0mself\u001b[0m\u001b[0;34m.\u001b[0m\u001b[0m_getitem_multilevel\u001b[0m\u001b[0;34m(\u001b[0m\u001b[0mkey\u001b[0m\u001b[0;34m)\u001b[0m\u001b[0;34m\u001b[0m\u001b[0;34m\u001b[0m\u001b[0m\n\u001b[0;32m-> 3807\u001b[0;31m             \u001b[0mindexer\u001b[0m \u001b[0;34m=\u001b[0m \u001b[0mself\u001b[0m\u001b[0;34m.\u001b[0m\u001b[0mcolumns\u001b[0m\u001b[0;34m.\u001b[0m\u001b[0mget_loc\u001b[0m\u001b[0;34m(\u001b[0m\u001b[0mkey\u001b[0m\u001b[0;34m)\u001b[0m\u001b[0;34m\u001b[0m\u001b[0;34m\u001b[0m\u001b[0m\n\u001b[0m\u001b[1;32m   3808\u001b[0m             \u001b[0;32mif\u001b[0m \u001b[0mis_integer\u001b[0m\u001b[0;34m(\u001b[0m\u001b[0mindexer\u001b[0m\u001b[0;34m)\u001b[0m\u001b[0;34m:\u001b[0m\u001b[0;34m\u001b[0m\u001b[0;34m\u001b[0m\u001b[0m\n\u001b[1;32m   3809\u001b[0m                 \u001b[0mindexer\u001b[0m \u001b[0;34m=\u001b[0m \u001b[0;34m[\u001b[0m\u001b[0mindexer\u001b[0m\u001b[0;34m]\u001b[0m\u001b[0;34m\u001b[0m\u001b[0;34m\u001b[0m\u001b[0m\n",
            "\u001b[0;32m/usr/local/lib/python3.10/dist-packages/pandas/core/indexes/base.py\u001b[0m in \u001b[0;36mget_loc\u001b[0;34m(self, key, method, tolerance)\u001b[0m\n\u001b[1;32m   3802\u001b[0m                 \u001b[0;32mreturn\u001b[0m \u001b[0mself\u001b[0m\u001b[0;34m.\u001b[0m\u001b[0m_engine\u001b[0m\u001b[0;34m.\u001b[0m\u001b[0mget_loc\u001b[0m\u001b[0;34m(\u001b[0m\u001b[0mcasted_key\u001b[0m\u001b[0;34m)\u001b[0m\u001b[0;34m\u001b[0m\u001b[0;34m\u001b[0m\u001b[0m\n\u001b[1;32m   3803\u001b[0m             \u001b[0;32mexcept\u001b[0m \u001b[0mKeyError\u001b[0m \u001b[0;32mas\u001b[0m \u001b[0merr\u001b[0m\u001b[0;34m:\u001b[0m\u001b[0;34m\u001b[0m\u001b[0;34m\u001b[0m\u001b[0m\n\u001b[0;32m-> 3804\u001b[0;31m                 \u001b[0;32mraise\u001b[0m \u001b[0mKeyError\u001b[0m\u001b[0;34m(\u001b[0m\u001b[0mkey\u001b[0m\u001b[0;34m)\u001b[0m \u001b[0;32mfrom\u001b[0m \u001b[0merr\u001b[0m\u001b[0;34m\u001b[0m\u001b[0;34m\u001b[0m\u001b[0m\n\u001b[0m\u001b[1;32m   3805\u001b[0m             \u001b[0;32mexcept\u001b[0m \u001b[0mTypeError\u001b[0m\u001b[0;34m:\u001b[0m\u001b[0;34m\u001b[0m\u001b[0;34m\u001b[0m\u001b[0m\n\u001b[1;32m   3806\u001b[0m                 \u001b[0;31m# If we have a listlike key, _check_indexing_error will raise\u001b[0m\u001b[0;34m\u001b[0m\u001b[0;34m\u001b[0m\u001b[0m\n",
            "\u001b[0;31mKeyError\u001b[0m: 'hh_size_est'"
          ]
        }
      ],
      "source": [
        "df_copy = data.copy()\n",
        "\n",
        "size_counts = df_copy['hh_size'].value_counts(dropna=False)\n",
        "\n",
        "# replace est_size_counts >4 with average of others\n",
        "\n",
        "filtered_values = size_counts[size_counts.index > 4].index\n",
        "\n",
        "# Filter the DataFrame based on the condition\n",
        "filtered_df = df_copy[df_copy['hh_size'].isin(filtered_values)]\n",
        "\n",
        "# Replace >4 values in hh_size_est with average of the filtered values\n",
        "average_of_filtered_values = filtered_df['hh_size'].mean()\n",
        "\n",
        "print(average_of_filtered_values)\n",
        "\n",
        "df_copy['hh_size_est'].replace('>4', f'{average_of_filtered_values}', inplace=True)\n",
        "\n",
        "for i in range(5):\n",
        "  df_copy['hh_size_est'].replace(f'{i}', i, inplace=True)\n",
        "\n",
        "# replace NaN values with 0\n",
        "df_copy['hh_size'] = df_copy['hh_size'].fillna(0)\n",
        "df_copy['hh_size_est'] = df_copy['hh_size_est'].fillna(0)\n",
        "# df['hh_size'].fillna(0, inplace = True)\n",
        "# df['hh_size_est'].fillna(0, inplace = True)\n",
        "\n",
        "# find correlation between hh_size_est and hh_size\n",
        "est_size_counts = df_copy['hh_size_est'].value_counts(dropna=False)\n",
        "size_counts = df_copy['hh_size'].value_counts(dropna=False)\n",
        "\n",
        "x = df_copy['hh_size']\n",
        "y = df_copy['hh_size_est']\n",
        "\n",
        "plt.scatter(x, y, color='blue', label='X vs Y')\n",
        "\n",
        "# Add labels and title\n",
        "plt.xlabel('hh_size')\n",
        "plt.ylabel('hh_size_est')\n",
        "plt.title('Correlation between hh_size and hh_size_st')\n",
        "\n",
        "# Show plot\n",
        "plt.grid(True)\n",
        "plt.legend()\n",
        "plt.show()\n",
        "\n",
        "correlation = df['hh_size'].corr(df['hh_size_est'])\n",
        "\n",
        "print(\"Correlation between 'hh_size' and 'hh_size_est':\", correlation)"
      ]
    },
    {
      "cell_type": "markdown",
      "metadata": {},
      "source": [
        "## The cell below is **NOT** to be removed\n",
        "##### The function is to be amended so that it accepts the given input (dataframe) and returns the required output (list). \n",
        "##### It is recommended to test the function out prior to submission\n",
        "-------------------------------------------------------------------------------------------------------------------------------\n",
        "##### The hidden_data parsed into the function below will have the same layout columns wise as the dataset *SENT* to you\n",
        "##### Thus, ensure that steps taken to modify the initial dataset to fit into the model are also carried out in the function below"
      ]
    },
    {
      "cell_type": "code",
      "execution_count": null,
      "metadata": {},
      "outputs": [],
      "source": [
        "def testing_hidden_data(hidden_data: pd.DataFrame) -> list:\n",
        "    '''DO NOT REMOVE THIS FUNCTION.\n",
        "\n",
        "The function accepts a dataframe as input and return an iterable (list)\n",
        "of binary classes as output.\n",
        "\n",
        "The function should be coded to test on hidden data\n",
        "and should include any preprocessing functions needed for your model to perform. \n",
        "    \n",
        "All relevant code MUST be included in this function.'''\n",
        "    result = [] \n",
        "    return result"
      ]
    },
    {
      "cell_type": "markdown",
      "metadata": {},
      "source": [
        "##### Cell to check testing_hidden_data function"
      ]
    },
    {
      "cell_type": "code",
      "execution_count": null,
      "metadata": {},
      "outputs": [],
      "source": [
        "# This cell should output a list of predictions.\n",
        "test_df = pd.read_parquet(filepath)\n",
        "test_df = test_df.drop(columns=[\"f_purchase_lh\"])\n",
        "print(testing_hidden_data(test_df))"
      ]
    },
    {
      "cell_type": "markdown",
      "metadata": {},
      "source": [
        "### Please have the filename renamed and ensure that it can be run with the requirements above being met. All the best!"
      ]
    }
  ],
  "metadata": {
    "colab": {
      "collapsed_sections": [
        "yS5DYlqYBTOD",
        "VYNkzXs8Bf3e",
        "XmUfs7XSB7vY",
        "_xnIhCtSGXKi",
        "hkHX21Addq0P"
      ],
      "provenance": []
    },
    "kernelspec": {
      "display_name": "Python 3",
      "name": "python3"
    },
    "language_info": {
      "codemirror_mode": {
        "name": "ipython",
        "version": 3
      },
      "file_extension": ".py",
      "mimetype": "text/x-python",
      "name": "python",
      "nbconvert_exporter": "python",
      "pygments_lexer": "ipython3",
      "version": "3.11.1"
    }
  },
  "nbformat": 4,
  "nbformat_minor": 0
}
